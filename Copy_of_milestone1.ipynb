{
  "cells": [
    {
      "cell_type": "markdown",
      "metadata": {
        "id": "view-in-github",
        "colab_type": "text"
      },
      "source": [
        "<a href=\"https://colab.research.google.com/github/sbrchar/tuw-nlp-ie-2023WS/blob/main/Copy_of_milestone1.ipynb\" target=\"_parent\"><img src=\"https://colab.research.google.com/assets/colab-badge.svg\" alt=\"Open In Colab\"/></a>"
      ]
    },
    {
      "cell_type": "markdown",
      "metadata": {
        "id": "TqicbrlD9U0T"
      },
      "source": [
        "# Milestone 1 - Model Exploration"
      ]
    },
    {
      "cell_type": "code",
      "source": [
        "!git clone https://github.com/tuw-nlp-ie/project-2022WS.git"
      ],
      "metadata": {
        "id": "mEkFay1m9ap2",
        "outputId": "614b2d59-a852-41d5-a88c-447386621a5b",
        "colab": {
          "base_uri": "https://localhost:8080/"
        }
      },
      "execution_count": 1,
      "outputs": [
        {
          "output_type": "stream",
          "name": "stdout",
          "text": [
            "fatal: destination path 'project-2022WS' already exists and is not an empty directory.\n"
          ]
        }
      ]
    },
    {
      "cell_type": "code",
      "source": [
        "%cd /content/project-2022WS/data/\n"
      ],
      "metadata": {
        "id": "bV65Mr52_cY8",
        "outputId": "47018355-2041-4481-e64c-10c47689470d",
        "colab": {
          "base_uri": "https://localhost:8080/"
        }
      },
      "execution_count": 12,
      "outputs": [
        {
          "output_type": "stream",
          "name": "stdout",
          "text": [
            "/content/project-2022WS/data\n"
          ]
        }
      ]
    },
    {
      "cell_type": "code",
      "source": [
        "!wget https://owncloud.tuwien.ac.at/index.php/s/C2EXAQBlMLHvpHv/download -O imdb_dataset_sample.csv\n",
        "\n"
      ],
      "metadata": {
        "id": "Bs9n732K_mOV",
        "outputId": "24fcf2ee-8a9d-40f3-d2e8-04c5f43201cb",
        "colab": {
          "base_uri": "https://localhost:8080/"
        }
      },
      "execution_count": 13,
      "outputs": [
        {
          "output_type": "stream",
          "name": "stdout",
          "text": [
            "--2023-10-31 23:32:26--  https://owncloud.tuwien.ac.at/index.php/s/C2EXAQBlMLHvpHv/download\n",
            "Resolving owncloud.tuwien.ac.at (owncloud.tuwien.ac.at)... 128.130.35.207, 2001:629:3800:335::207\n",
            "Connecting to owncloud.tuwien.ac.at (owncloud.tuwien.ac.at)|128.130.35.207|:443... connected.\n",
            "HTTP request sent, awaiting response... 200 OK\n",
            "Length: 2691449 (2.6M) [text/csv]\n",
            "Saving to: ‘imdb_dataset_sample.csv’\n",
            "\n",
            "imdb_dataset_sample 100%[===================>]   2.57M  2.20MB/s    in 1.2s    \n",
            "\n",
            "2023-10-31 23:32:27 (2.20 MB/s) - ‘imdb_dataset_sample.csv’ saved [2691449/2691449]\n",
            "\n"
          ]
        }
      ]
    },
    {
      "cell_type": "code",
      "source": [
        "!wget https://owncloud.tuwien.ac.at/index.php/s/L0z1sXXgWFLloY4/download -O bayes_model.tsv"
      ],
      "metadata": {
        "id": "eWIO5_QBA3KA",
        "outputId": "2f2337e9-0ad2-418b-90a3-ab1803d6c5a3",
        "colab": {
          "base_uri": "https://localhost:8080/"
        }
      },
      "execution_count": 14,
      "outputs": [
        {
          "output_type": "stream",
          "name": "stdout",
          "text": [
            "--2023-10-31 23:32:29--  https://owncloud.tuwien.ac.at/index.php/s/L0z1sXXgWFLloY4/download\n",
            "Resolving owncloud.tuwien.ac.at (owncloud.tuwien.ac.at)... 128.130.35.207, 2001:629:3800:335::207\n",
            "Connecting to owncloud.tuwien.ac.at (owncloud.tuwien.ac.at)|128.130.35.207|:443... connected.\n",
            "HTTP request sent, awaiting response... 200 OK\n",
            "Length: 1975736 (1.9M) [application/octet-stream]\n",
            "Saving to: ‘bayes_model.tsv’\n",
            "\n",
            "bayes_model.tsv     100%[===================>]   1.88M  1.61MB/s    in 1.2s    \n",
            "\n",
            "2023-10-31 23:32:31 (1.61 MB/s) - ‘bayes_model.tsv’ saved [1975736/1975736]\n",
            "\n"
          ]
        }
      ]
    },
    {
      "cell_type": "code",
      "source": [
        "!wget https://owncloud.tuwien.ac.at/index.php/s/hEJEq7vvN2ErtUj/download -O bow_model.pt"
      ],
      "metadata": {
        "id": "qR2fWfddA3VC",
        "outputId": "899ac048-8842-4af3-f738-d16585858d01",
        "colab": {
          "base_uri": "https://localhost:8080/"
        }
      },
      "execution_count": 15,
      "outputs": [
        {
          "output_type": "stream",
          "name": "stdout",
          "text": [
            "--2023-10-31 23:32:33--  https://owncloud.tuwien.ac.at/index.php/s/hEJEq7vvN2ErtUj/download\n",
            "Resolving owncloud.tuwien.ac.at (owncloud.tuwien.ac.at)... 128.130.35.207, 2001:629:3800:335::207\n",
            "Connecting to owncloud.tuwien.ac.at (owncloud.tuwien.ac.at)|128.130.35.207|:443... connected.\n",
            "HTTP request sent, awaiting response... 200 OK\n",
            "Length: 25063 (24K) [application/octet-stream]\n",
            "Saving to: ‘bow_model.pt’\n",
            "\n",
            "bow_model.pt        100%[===================>]  24.48K  --.-KB/s    in 0.1s    \n",
            "\n",
            "2023-10-31 23:32:34 (170 KB/s) - ‘bow_model.pt’ saved [25063/25063]\n",
            "\n"
          ]
        }
      ]
    },
    {
      "cell_type": "code",
      "source": [
        "!bash download.sh"
      ],
      "metadata": {
        "id": "WCGk-0gcA3el",
        "outputId": "018595d7-c869-4108-fcb6-dfed93442dff",
        "colab": {
          "base_uri": "https://localhost:8080/"
        }
      },
      "execution_count": 6,
      "outputs": [
        {
          "output_type": "stream",
          "name": "stdout",
          "text": [
            "--2023-10-31 23:30:00--  https://owncloud.tuwien.ac.at/index.php/s/C2EXAQBlMLHvpHv/download\n",
            "Resolving owncloud.tuwien.ac.at (owncloud.tuwien.ac.at)... 128.130.35.207, 2001:629:3800:335::207\n",
            "Connecting to owncloud.tuwien.ac.at (owncloud.tuwien.ac.at)|128.130.35.207|:443... connected.\n",
            "HTTP request sent, awaiting response... 200 OK\n",
            "Length: 2691449 (2.6M) [text/csv]\n",
            "Saving to: ‘imdb_dataset_sample.csv’\n",
            "\n",
            "imdb_dataset_sample 100%[===================>]   2.57M  2.22MB/s    in 1.2s    \n",
            "\n",
            "2023-10-31 23:30:02 (2.22 MB/s) - ‘imdb_dataset_sample.csv’ saved [2691449/2691449]\n",
            "\n",
            "--2023-10-31 23:30:02--  https://owncloud.tuwien.ac.at/index.php/s/L0z1sXXgWFLloY4/download\n",
            "Resolving owncloud.tuwien.ac.at (owncloud.tuwien.ac.at)... 128.130.35.207, 2001:629:3800:335::207\n",
            "Connecting to owncloud.tuwien.ac.at (owncloud.tuwien.ac.at)|128.130.35.207|:443... connected.\n",
            "HTTP request sent, awaiting response... 200 OK\n",
            "Length: 1975736 (1.9M) [application/octet-stream]\n",
            "Saving to: ‘bayes_model.tsv’\n",
            "\n",
            "bayes_model.tsv     100%[===================>]   1.88M  1.85MB/s    in 1.0s    \n",
            "\n",
            "2023-10-31 23:30:04 (1.85 MB/s) - ‘bayes_model.tsv’ saved [1975736/1975736]\n",
            "\n",
            "--2023-10-31 23:30:04--  https://owncloud.tuwien.ac.at/index.php/s/hEJEq7vvN2ErtUj/download\n",
            "Resolving owncloud.tuwien.ac.at (owncloud.tuwien.ac.at)... 128.130.35.207, 2001:629:3800:335::207\n",
            "Connecting to owncloud.tuwien.ac.at (owncloud.tuwien.ac.at)|128.130.35.207|:443... connected.\n",
            "HTTP request sent, awaiting response... 200 OK\n",
            "Length: 25063 (24K) [application/octet-stream]\n",
            "Saving to: ‘bow_model.pt’\n",
            "\n",
            "bow_model.pt        100%[===================>]  24.48K  --.-KB/s    in 0.1s    \n",
            "\n",
            "2023-10-31 23:30:05 (167 KB/s) - ‘bow_model.pt’ saved [25063/25063]\n",
            "\n"
          ]
        }
      ]
    },
    {
      "cell_type": "code",
      "source": [
        "import nltk\n",
        "nltk.download('punkt')\n"
      ],
      "metadata": {
        "colab": {
          "base_uri": "https://localhost:8080/"
        },
        "id": "pEkyW6RNFJPM",
        "outputId": "ef3146cd-62fd-48e3-e2ae-9eec5959f743"
      },
      "execution_count": 16,
      "outputs": [
        {
          "output_type": "stream",
          "name": "stderr",
          "text": [
            "[nltk_data] Downloading package punkt to /root/nltk_data...\n",
            "[nltk_data]   Unzipping tokenizers/punkt.zip.\n"
          ]
        },
        {
          "output_type": "execute_result",
          "data": {
            "text/plain": [
              "True"
            ]
          },
          "metadata": {},
          "execution_count": 16
        }
      ]
    },
    {
      "cell_type": "code",
      "source": [
        "%cd /content/project-2022WS\n"
      ],
      "metadata": {
        "id": "olrfqUcl9atf",
        "outputId": "7679739a-98c2-4dd4-b073-fd66a5608b04",
        "colab": {
          "base_uri": "https://localhost:8080/"
        }
      },
      "execution_count": 17,
      "outputs": [
        {
          "output_type": "stream",
          "name": "stdout",
          "text": [
            "/content/project-2022WS\n"
          ]
        }
      ]
    },
    {
      "cell_type": "code",
      "source": [],
      "metadata": {
        "id": "3wUkeu04_Gmj"
      },
      "execution_count": 7,
      "outputs": []
    },
    {
      "cell_type": "code",
      "source": [],
      "metadata": {
        "id": "EAIzoLYS_bxA"
      },
      "execution_count": 7,
      "outputs": []
    },
    {
      "cell_type": "code",
      "source": [],
      "metadata": {
        "id": "eZG3b46y_G0d"
      },
      "execution_count": 7,
      "outputs": []
    },
    {
      "cell_type": "code",
      "source": [
        "!python setup.py install"
      ],
      "metadata": {
        "id": "06MeqT8t9aye",
        "outputId": "0c636aab-cfa7-4e44-bbf5-c9476f88f57e",
        "colab": {
          "base_uri": "https://localhost:8080/"
        }
      },
      "execution_count": 18,
      "outputs": [
        {
          "output_type": "stream",
          "name": "stdout",
          "text": [
            "running install\n",
            "/usr/local/lib/python3.10/dist-packages/setuptools/_distutils/cmd.py:66: SetuptoolsDeprecationWarning: setup.py install is deprecated.\n",
            "!!\n",
            "\n",
            "        ********************************************************************************\n",
            "        Please avoid running ``setup.py`` directly.\n",
            "        Instead, use pypa/build, pypa/installer, pypa/build or\n",
            "        other standards-based tools.\n",
            "\n",
            "        See https://blog.ganssle.io/articles/2021/10/setup-py-deprecated.html for details.\n",
            "        ********************************************************************************\n",
            "\n",
            "!!\n",
            "  self.initialize_options()\n",
            "/usr/local/lib/python3.10/dist-packages/setuptools/_distutils/cmd.py:66: EasyInstallDeprecationWarning: easy_install command is deprecated.\n",
            "!!\n",
            "\n",
            "        ********************************************************************************\n",
            "        Please avoid running ``setup.py`` and ``easy_install``.\n",
            "        Instead, use pypa/build, pypa/installer, pypa/build or\n",
            "        other standards-based tools.\n",
            "\n",
            "        See https://github.com/pypa/setuptools/issues/917 for details.\n",
            "        ********************************************************************************\n",
            "\n",
            "!!\n",
            "  self.initialize_options()\n",
            "running bdist_egg\n",
            "running egg_info\n",
            "writing tuwnlpie.egg-info/PKG-INFO\n",
            "writing dependency_links to tuwnlpie.egg-info/dependency_links.txt\n",
            "writing requirements to tuwnlpie.egg-info/requires.txt\n",
            "writing top-level names to tuwnlpie.egg-info/top_level.txt\n",
            "reading manifest file 'tuwnlpie.egg-info/SOURCES.txt'\n",
            "adding license file 'LICENSE'\n",
            "writing manifest file 'tuwnlpie.egg-info/SOURCES.txt'\n",
            "installing library code to build/bdist.linux-x86_64/egg\n",
            "running install_lib\n",
            "running build_py\n",
            "creating build/bdist.linux-x86_64/egg\n",
            "creating build/bdist.linux-x86_64/egg/tuwnlpie\n",
            "copying build/lib/tuwnlpie/__init__.py -> build/bdist.linux-x86_64/egg/tuwnlpie\n",
            "byte-compiling build/bdist.linux-x86_64/egg/tuwnlpie/__init__.py to __init__.cpython-310.pyc\n",
            "creating build/bdist.linux-x86_64/egg/EGG-INFO\n",
            "copying tuwnlpie.egg-info/PKG-INFO -> build/bdist.linux-x86_64/egg/EGG-INFO\n",
            "copying tuwnlpie.egg-info/SOURCES.txt -> build/bdist.linux-x86_64/egg/EGG-INFO\n",
            "copying tuwnlpie.egg-info/dependency_links.txt -> build/bdist.linux-x86_64/egg/EGG-INFO\n",
            "copying tuwnlpie.egg-info/not-zip-safe -> build/bdist.linux-x86_64/egg/EGG-INFO\n",
            "copying tuwnlpie.egg-info/requires.txt -> build/bdist.linux-x86_64/egg/EGG-INFO\n",
            "copying tuwnlpie.egg-info/top_level.txt -> build/bdist.linux-x86_64/egg/EGG-INFO\n",
            "creating 'dist/tuwnlpie-0.0.1-py3.10.egg' and adding 'build/bdist.linux-x86_64/egg' to it\n",
            "removing 'build/bdist.linux-x86_64/egg' (and everything under it)\n",
            "Processing tuwnlpie-0.0.1-py3.10.egg\n",
            "removing '/usr/local/lib/python3.10/dist-packages/tuwnlpie-0.0.1-py3.10.egg' (and everything under it)\n",
            "creating /usr/local/lib/python3.10/dist-packages/tuwnlpie-0.0.1-py3.10.egg\n",
            "Extracting tuwnlpie-0.0.1-py3.10.egg to /usr/local/lib/python3.10/dist-packages\n",
            "tuwnlpie 0.0.1 is already the active version in easy-install.pth\n",
            "\n",
            "Installed /usr/local/lib/python3.10/dist-packages/tuwnlpie-0.0.1-py3.10.egg\n",
            "Processing dependencies for tuwnlpie==0.0.1\n",
            "Searching for scikit-learn==1.1.2\n",
            "Best match: scikit-learn 1.1.2\n",
            "Processing scikit_learn-1.1.2-py3.10-linux-x86_64.egg\n",
            "scikit-learn 1.1.2 is already the active version in easy-install.pth\n",
            "\n",
            "Using /usr/local/lib/python3.10/dist-packages/scikit_learn-1.1.2-py3.10-linux-x86_64.egg\n",
            "Searching for pandas==1.5.0\n",
            "Best match: pandas 1.5.0\n",
            "Processing pandas-1.5.0-py3.10-linux-x86_64.egg\n",
            "pandas 1.5.0 is already the active version in easy-install.pth\n",
            "\n",
            "Using /usr/local/lib/python3.10/dist-packages/pandas-1.5.0-py3.10-linux-x86_64.egg\n",
            "Searching for torch==1.12.1\n",
            "Best match: torch 1.12.1\n",
            "Processing torch-1.12.1-py3.10-linux-x86_64.egg\n",
            "torch 1.12.1 is already the active version in easy-install.pth\n",
            "Installing convert-caffe2-to-onnx script to /usr/local/bin\n",
            "Installing convert-onnx-to-caffe2 script to /usr/local/bin\n",
            "Installing torchrun script to /usr/local/bin\n",
            "\n",
            "Using /usr/local/lib/python3.10/dist-packages/torch-1.12.1-py3.10-linux-x86_64.egg\n",
            "Searching for numpy==1.23.3\n",
            "Best match: numpy 1.23.3\n",
            "Processing numpy-1.23.3-py3.10-linux-x86_64.egg\n",
            "numpy 1.23.3 is already the active version in easy-install.pth\n",
            "Installing f2py script to /usr/local/bin\n",
            "Installing f2py3 script to /usr/local/bin\n",
            "Installing f2py3.10 script to /usr/local/bin\n",
            "\n",
            "Using /usr/local/lib/python3.10/dist-packages/numpy-1.23.3-py3.10-linux-x86_64.egg\n",
            "Searching for nltk==3.7\n",
            "Best match: nltk 3.7\n",
            "Processing nltk-3.7-py3.10.egg\n",
            "nltk 3.7 is already the active version in easy-install.pth\n",
            "Installing nltk script to /usr/local/bin\n",
            "\n",
            "Using /usr/local/lib/python3.10/dist-packages/nltk-3.7-py3.10.egg\n",
            "Searching for threadpoolctl==3.2.0\n",
            "Best match: threadpoolctl 3.2.0\n",
            "Adding threadpoolctl 3.2.0 to easy-install.pth file\n",
            "\n",
            "Using /usr/local/lib/python3.10/dist-packages\n",
            "Searching for joblib==1.3.2\n",
            "Best match: joblib 1.3.2\n",
            "Adding joblib 1.3.2 to easy-install.pth file\n",
            "\n",
            "Using /usr/local/lib/python3.10/dist-packages\n",
            "Searching for scipy==1.11.3\n",
            "Best match: scipy 1.11.3\n",
            "Adding scipy 1.11.3 to easy-install.pth file\n",
            "\n",
            "Using /usr/local/lib/python3.10/dist-packages\n",
            "Searching for pytz==2023.3.post1\n",
            "Best match: pytz 2023.3.post1\n",
            "Adding pytz 2023.3.post1 to easy-install.pth file\n",
            "\n",
            "Using /usr/local/lib/python3.10/dist-packages\n",
            "Searching for python-dateutil==2.8.2\n",
            "Best match: python-dateutil 2.8.2\n",
            "Adding python-dateutil 2.8.2 to easy-install.pth file\n",
            "\n",
            "Using /usr/local/lib/python3.10/dist-packages\n",
            "Searching for typing-extensions==4.5.0\n",
            "Best match: typing-extensions 4.5.0\n",
            "Adding typing-extensions 4.5.0 to easy-install.pth file\n",
            "\n",
            "Using /usr/local/lib/python3.10/dist-packages\n",
            "Searching for tqdm==4.66.1\n",
            "Best match: tqdm 4.66.1\n",
            "Adding tqdm 4.66.1 to easy-install.pth file\n",
            "Installing tqdm script to /usr/local/bin\n",
            "\n",
            "Using /usr/local/lib/python3.10/dist-packages\n",
            "Searching for regex==2023.6.3\n",
            "Best match: regex 2023.6.3\n",
            "Adding regex 2023.6.3 to easy-install.pth file\n",
            "\n",
            "Using /usr/local/lib/python3.10/dist-packages\n",
            "Searching for click==8.1.7\n",
            "Best match: click 8.1.7\n",
            "Adding click 8.1.7 to easy-install.pth file\n",
            "\n",
            "Using /usr/local/lib/python3.10/dist-packages\n",
            "Searching for six==1.16.0\n",
            "Best match: six 1.16.0\n",
            "Adding six 1.16.0 to easy-install.pth file\n",
            "\n",
            "Using /usr/local/lib/python3.10/dist-packages\n",
            "Finished processing dependencies for tuwnlpie==0.0.1\n"
          ]
        }
      ]
    },
    {
      "cell_type": "code",
      "source": [],
      "metadata": {
        "id": "vmK6HMCI9a2N"
      },
      "execution_count": 8,
      "outputs": []
    },
    {
      "cell_type": "code",
      "source": [],
      "metadata": {
        "id": "-GKzzgWq9a5G"
      },
      "execution_count": 8,
      "outputs": []
    },
    {
      "cell_type": "code",
      "source": [],
      "metadata": {
        "id": "XDyDzhnR9a77"
      },
      "execution_count": 8,
      "outputs": []
    },
    {
      "cell_type": "code",
      "source": [],
      "metadata": {
        "id": "oIHTVSqB9a-9"
      },
      "execution_count": 8,
      "outputs": []
    },
    {
      "cell_type": "code",
      "source": [],
      "metadata": {
        "id": "DzHlyxDK9bB0"
      },
      "execution_count": 8,
      "outputs": []
    },
    {
      "cell_type": "code",
      "source": [],
      "metadata": {
        "id": "QZb3r2mE9bFI"
      },
      "execution_count": 8,
      "outputs": []
    },
    {
      "cell_type": "code",
      "source": [],
      "metadata": {
        "id": "-2mNLuK79bIo"
      },
      "execution_count": 8,
      "outputs": []
    },
    {
      "cell_type": "code",
      "execution_count": 19,
      "metadata": {
        "id": "FIs_Cn9Q9U0c"
      },
      "outputs": [],
      "source": [
        "from tuwnlpie.milestone1.model import SimpleNBClassifier\n",
        "from tuwnlpie.milestone1.utils import read_docs_from_csv, split_train_dev_test"
      ]
    },
    {
      "cell_type": "code",
      "execution_count": 20,
      "metadata": {
        "id": "QV0Im6vX9U0i"
      },
      "outputs": [],
      "source": [
        "model = SimpleNBClassifier()"
      ]
    },
    {
      "cell_type": "code",
      "source": [],
      "metadata": {
        "id": "Ya2tTWJx-T3G"
      },
      "execution_count": 10,
      "outputs": []
    },
    {
      "cell_type": "code",
      "execution_count": 21,
      "metadata": {
        "id": "-75MpTpT9U0j",
        "outputId": "e184753f-ca41-4f94-b334-43e6935c8b95",
        "colab": {
          "base_uri": "https://localhost:8080/"
        }
      },
      "outputs": [
        {
          "output_type": "stream",
          "name": "stderr",
          "text": [
            "2000it [00:06, 319.84it/s]\n"
          ]
        }
      ],
      "source": [
        "docs = read_docs_from_csv(\"/content/project-2022WS/data/imdb_dataset_sample.csv\")\n",
        "\n"
      ]
    },
    {
      "cell_type": "code",
      "source": [],
      "metadata": {
        "id": "3YNJxy3mFGWK"
      },
      "execution_count": 21,
      "outputs": []
    },
    {
      "cell_type": "code",
      "execution_count": 22,
      "metadata": {
        "id": "aA6Ep-Vl9U0l"
      },
      "outputs": [],
      "source": [
        "train_docs, dev_docs, test_docs = split_train_dev_test(docs)"
      ]
    },
    {
      "cell_type": "code",
      "execution_count": 23,
      "metadata": {
        "id": "jyAsutfu9U0m",
        "outputId": "1876c8e3-7876-485b-c431-88712e2f0f31",
        "colab": {
          "base_uri": "https://localhost:8080/"
        }
      },
      "outputs": [
        {
          "output_type": "stream",
          "name": "stderr",
          "text": [
            "INFO:tuwnlpie:Counting words\n",
            "INFO:tuwnlpie:Calculating weights\n",
            "INFO:tuwnlpie:Finished training\n"
          ]
        }
      ],
      "source": [
        "model.count_words(train_docs)\n",
        "model.calculate_weights()"
      ]
    },
    {
      "cell_type": "code",
      "execution_count": 24,
      "metadata": {
        "id": "Y064QQCY9U0n"
      },
      "outputs": [],
      "source": [
        "doc1 = (\"This\", \"movie\", \"is\", \"stupid\")\n",
        "doc2 = (\"I\", \"loved\", \"this\", \"movie\")\n",
        "doc3 = (\"This\", \"is\", \"the\", \"most\", \"famous\", \"movie\", \"by\", \"Aaron\")"
      ]
    },
    {
      "cell_type": "code",
      "execution_count": 25,
      "metadata": {
        "id": "Wea_dniW9U0p",
        "colab": {
          "base_uri": "https://localhost:8080/",
          "height": 35
        },
        "outputId": "9c53baac-40bd-48da-ed8e-d5f7ac5fdd86"
      },
      "outputs": [
        {
          "output_type": "execute_result",
          "data": {
            "text/plain": [
              "'negative'"
            ],
            "application/vnd.google.colaboratory.intrinsic+json": {
              "type": "string"
            }
          },
          "metadata": {},
          "execution_count": 25
        }
      ],
      "source": [
        "model.predict_label(doc1)"
      ]
    },
    {
      "cell_type": "code",
      "execution_count": 26,
      "metadata": {
        "id": "2Ypfv82l9U0s",
        "colab": {
          "base_uri": "https://localhost:8080/",
          "height": 35
        },
        "outputId": "d6dfd4a8-abeb-4657-8038-0eefb4badb30"
      },
      "outputs": [
        {
          "output_type": "execute_result",
          "data": {
            "text/plain": [
              "'positive'"
            ],
            "application/vnd.google.colaboratory.intrinsic+json": {
              "type": "string"
            }
          },
          "metadata": {},
          "execution_count": 26
        }
      ],
      "source": [
        "model.predict_label(doc2)"
      ]
    },
    {
      "cell_type": "code",
      "execution_count": 27,
      "metadata": {
        "id": "OkGmz6dC9U0u",
        "colab": {
          "base_uri": "https://localhost:8080/",
          "height": 35
        },
        "outputId": "0a68f070-9f07-4102-fd8b-cf4633be4991"
      },
      "outputs": [
        {
          "output_type": "execute_result",
          "data": {
            "text/plain": [
              "'positive'"
            ],
            "application/vnd.google.colaboratory.intrinsic+json": {
              "type": "string"
            }
          },
          "metadata": {},
          "execution_count": 27
        }
      ],
      "source": [
        "model.predict_label(doc3)"
      ]
    },
    {
      "cell_type": "code",
      "execution_count": 28,
      "metadata": {
        "id": "Adu4AUvR9U0y",
        "colab": {
          "base_uri": "https://localhost:8080/"
        },
        "outputId": "02e50a91-4d7a-4916-de4f-fc1a1fa19b80"
      },
      "outputs": [
        {
          "output_type": "execute_result",
          "data": {
            "text/plain": [
              "{'negative': -18.36002673031934, 'positive': -20.124443855541543}"
            ]
          },
          "metadata": {},
          "execution_count": 28
        }
      ],
      "source": [
        "model.get_doc_weights(doc1)"
      ]
    },
    {
      "cell_type": "code",
      "execution_count": 29,
      "metadata": {
        "id": "Pyq8BYp09U00",
        "colab": {
          "base_uri": "https://localhost:8080/"
        },
        "outputId": "3004a896-1668-4ac9-e9a6-2128bfc3e952"
      },
      "outputs": [
        {
          "output_type": "execute_result",
          "data": {
            "text/plain": [
              "{'negative': -19.300025154239663, 'positive': -18.222257749756906}"
            ]
          },
          "metadata": {},
          "execution_count": 29
        }
      ],
      "source": [
        "model.get_doc_weights(doc2)"
      ]
    },
    {
      "cell_type": "code",
      "execution_count": 30,
      "metadata": {
        "id": "K8ipo-kk9U01",
        "colab": {
          "base_uri": "https://localhost:8080/"
        },
        "outputId": "a1a0637b-2be0-4418-b9c4-9f374e05fc1d"
      },
      "outputs": [
        {
          "output_type": "execute_result",
          "data": {
            "text/plain": [
              "{'negative': -42.243412728607964, 'positive': -41.32178706015604}"
            ]
          },
          "metadata": {},
          "execution_count": 30
        }
      ],
      "source": [
        "model.get_doc_weights(doc3)"
      ]
    },
    {
      "cell_type": "code",
      "execution_count": 31,
      "metadata": {
        "id": "QmmAL-pI9U02",
        "colab": {
          "base_uri": "https://localhost:8080/"
        },
        "outputId": "391adfff-7d61-48a2-eb87-f2d2a9aaf38d"
      },
      "outputs": [
        {
          "output_type": "stream",
          "name": "stdout",
          "text": [
            "This {'negative': -4.490791092461962, 'positive': -4.4822318390662925}\n",
            "movie {'negative': -4.036709087070727, 'positive': -4.239785075334128}\n",
            "is {'negative': -3.7970123469564463, 'positive': -3.784503497264738}\n",
            "stupid {'negative': -6.035514203830204, 'positive': -7.617923443876386}\n"
          ]
        }
      ],
      "source": [
        "for word in doc1:\n",
        "    print(word, model.weights[word])"
      ]
    },
    {
      "cell_type": "code",
      "execution_count": 32,
      "metadata": {
        "id": "3kCZKM1W9U03",
        "colab": {
          "base_uri": "https://localhost:8080/"
        },
        "outputId": "ce8b1c9b-4a0f-41f5-e0dd-6296d7002153"
      },
      "outputs": [
        {
          "output_type": "stream",
          "name": "stdout",
          "text": [
            "I {'negative': -3.881958409138153, 'positive': -3.961618341687399}\n",
            "loved {'negative': -7.553188278794814, 'positive': -6.13612225900817}\n",
            "this {'negative': -3.828169379235968, 'positive': -3.8847320737272066}\n",
            "movie {'negative': -4.036709087070727, 'positive': -4.239785075334128}\n"
          ]
        }
      ],
      "source": [
        "for word in doc2:\n",
        "    print(word, model.weights[word])"
      ]
    },
    {
      "cell_type": "code",
      "execution_count": 33,
      "metadata": {
        "id": "_W1GOyee9U03",
        "colab": {
          "base_uri": "https://localhost:8080/"
        },
        "outputId": "e6e86bff-01d7-4a80-d93c-3ee09da3ee41"
      },
      "outputs": [
        {
          "output_type": "stream",
          "name": "stdout",
          "text": [
            "This {'negative': -4.490791092461962, 'positive': -4.4822318390662925}\n",
            "is {'negative': -3.7970123469564463, 'positive': -3.784503497264738}\n",
            "the {'negative': -3.699242241149483, 'positive': -3.7005056651962547}\n",
            "most {'negative': -5.121437498611299, 'positive': -4.929201484760166}\n",
            "famous {'negative': -7.434388632953642, 'positive': -6.828252829383326}\n",
            "movie {'negative': -4.036709087070727, 'positive': -4.239785075334128}\n",
            "by {'negative': -4.439128434592452, 'positive': -4.420285346790972}\n",
            "Aaron {'negative': -9.22470339481195, 'positive': -8.937021322360168}\n"
          ]
        }
      ],
      "source": [
        "for word in doc3:\n",
        "    print(word, model.weights[word])"
      ]
    },
    {
      "cell_type": "code",
      "execution_count": 34,
      "metadata": {
        "id": "CJrapZro9U04",
        "colab": {
          "base_uri": "https://localhost:8080/"
        },
        "outputId": "500ba102-2a58-4f03-9473-d744ee85beba"
      },
      "outputs": [
        {
          "output_type": "stream",
          "name": "stdout",
          "text": [
            "        word         pos         neg        diff\n",
            "================================================\n",
            "        This       -4.48       -4.49        0.01\n",
            "          is       -3.78       -3.80        0.01\n",
            "         the       -3.70       -3.70       -0.00\n",
            "        most       -4.93       -5.12        0.19\n",
            "      famous       -6.83       -7.43        0.61\n",
            "       movie       -4.24       -4.04       -0.20\n",
            "          by       -4.42       -4.44        0.02\n",
            "       Aaron       -8.94       -9.22        0.29\n"
          ]
        }
      ],
      "source": [
        "print((\"{:>12}\" * 4).format(\"word\", \"pos\", \"neg\", \"diff\"))\n",
        "print(\"=\" * 48)\n",
        "for word in doc3:\n",
        "    print(\n",
        "        \"{:>12}{:>12.2f}{:>12.2f}{:>12.2f}\".format(\n",
        "            word,\n",
        "            model.weights[word][\"positive\"],\n",
        "            model.weights[word][\"negative\"],\n",
        "            model.weights[word][\"positive\"] - model.weights[word][\"negative\"],\n",
        "        )\n",
        "    )"
      ]
    },
    {
      "cell_type": "code",
      "execution_count": null,
      "metadata": {
        "id": "MBIA_n259U04"
      },
      "outputs": [],
      "source": []
    }
  ],
  "metadata": {
    "kernelspec": {
      "display_name": "Python 3.9.5 ('base')",
      "language": "python",
      "name": "python3"
    },
    "language_info": {
      "codemirror_mode": {
        "name": "ipython",
        "version": 3
      },
      "file_extension": ".py",
      "mimetype": "text/x-python",
      "name": "python",
      "nbconvert_exporter": "python",
      "pygments_lexer": "ipython3",
      "version": "3.9.5"
    },
    "orig_nbformat": 4,
    "vscode": {
      "interpreter": {
        "hash": "2ba6e79cfe500659b64dde21d0b13217ce6375f8dca9d4d575440e3878ce882b"
      }
    },
    "colab": {
      "provenance": [],
      "include_colab_link": true
    }
  },
  "nbformat": 4,
  "nbformat_minor": 0
}