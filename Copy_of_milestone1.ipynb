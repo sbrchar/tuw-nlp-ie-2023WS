{
  "cells": [
    {
      "cell_type": "markdown",
      "metadata": {
        "id": "view-in-github",
        "colab_type": "text"
      },
      "source": [
        "<a href=\"https://colab.research.google.com/github/sbrchar/tuw-nlp-ie-2023WS/blob/main/Copy_of_milestone1.ipynb\" target=\"_parent\"><img src=\"https://colab.research.google.com/assets/colab-badge.svg\" alt=\"Open In Colab\"/></a>"
      ]
    },
    {
      "cell_type": "markdown",
      "metadata": {
        "id": "BGgIWIasvSpQ"
      },
      "source": [
        "# Milestone 1 - Model Exploration"
      ]
    },
    {
      "cell_type": "code",
      "source": [
        "\n",
        "from google.colab import files\n",
        "uploaded = files.upload()\n",
        "\n",
        "\n"
      ],
      "metadata": {
        "colab": {
          "base_uri": "https://localhost:8080/",
          "height": 73
        },
        "id": "iXbzZARFvYdD",
        "outputId": "c9fb5b68-95dc-4006-d804-743f9a4aa977"
      },
      "execution_count": null,
      "outputs": [
        {
          "output_type": "display_data",
          "data": {
            "text/plain": [
              "<IPython.core.display.HTML object>"
            ],
            "text/html": [
              "\n",
              "     <input type=\"file\" id=\"files-1afc93d5-cef0-430d-beb9-440f7b9275cc\" name=\"files[]\" multiple disabled\n",
              "        style=\"border:none\" />\n",
              "     <output id=\"result-1afc93d5-cef0-430d-beb9-440f7b9275cc\">\n",
              "      Upload widget is only available when the cell has been executed in the\n",
              "      current browser session. Please rerun this cell to enable.\n",
              "      </output>\n",
              "      <script>// Copyright 2017 Google LLC\n",
              "//\n",
              "// Licensed under the Apache License, Version 2.0 (the \"License\");\n",
              "// you may not use this file except in compliance with the License.\n",
              "// You may obtain a copy of the License at\n",
              "//\n",
              "//      http://www.apache.org/licenses/LICENSE-2.0\n",
              "//\n",
              "// Unless required by applicable law or agreed to in writing, software\n",
              "// distributed under the License is distributed on an \"AS IS\" BASIS,\n",
              "// WITHOUT WARRANTIES OR CONDITIONS OF ANY KIND, either express or implied.\n",
              "// See the License for the specific language governing permissions and\n",
              "// limitations under the License.\n",
              "\n",
              "/**\n",
              " * @fileoverview Helpers for google.colab Python module.\n",
              " */\n",
              "(function(scope) {\n",
              "function span(text, styleAttributes = {}) {\n",
              "  const element = document.createElement('span');\n",
              "  element.textContent = text;\n",
              "  for (const key of Object.keys(styleAttributes)) {\n",
              "    element.style[key] = styleAttributes[key];\n",
              "  }\n",
              "  return element;\n",
              "}\n",
              "\n",
              "// Max number of bytes which will be uploaded at a time.\n",
              "const MAX_PAYLOAD_SIZE = 100 * 1024;\n",
              "\n",
              "function _uploadFiles(inputId, outputId) {\n",
              "  const steps = uploadFilesStep(inputId, outputId);\n",
              "  const outputElement = document.getElementById(outputId);\n",
              "  // Cache steps on the outputElement to make it available for the next call\n",
              "  // to uploadFilesContinue from Python.\n",
              "  outputElement.steps = steps;\n",
              "\n",
              "  return _uploadFilesContinue(outputId);\n",
              "}\n",
              "\n",
              "// This is roughly an async generator (not supported in the browser yet),\n",
              "// where there are multiple asynchronous steps and the Python side is going\n",
              "// to poll for completion of each step.\n",
              "// This uses a Promise to block the python side on completion of each step,\n",
              "// then passes the result of the previous step as the input to the next step.\n",
              "function _uploadFilesContinue(outputId) {\n",
              "  const outputElement = document.getElementById(outputId);\n",
              "  const steps = outputElement.steps;\n",
              "\n",
              "  const next = steps.next(outputElement.lastPromiseValue);\n",
              "  return Promise.resolve(next.value.promise).then((value) => {\n",
              "    // Cache the last promise value to make it available to the next\n",
              "    // step of the generator.\n",
              "    outputElement.lastPromiseValue = value;\n",
              "    return next.value.response;\n",
              "  });\n",
              "}\n",
              "\n",
              "/**\n",
              " * Generator function which is called between each async step of the upload\n",
              " * process.\n",
              " * @param {string} inputId Element ID of the input file picker element.\n",
              " * @param {string} outputId Element ID of the output display.\n",
              " * @return {!Iterable<!Object>} Iterable of next steps.\n",
              " */\n",
              "function* uploadFilesStep(inputId, outputId) {\n",
              "  const inputElement = document.getElementById(inputId);\n",
              "  inputElement.disabled = false;\n",
              "\n",
              "  const outputElement = document.getElementById(outputId);\n",
              "  outputElement.innerHTML = '';\n",
              "\n",
              "  const pickedPromise = new Promise((resolve) => {\n",
              "    inputElement.addEventListener('change', (e) => {\n",
              "      resolve(e.target.files);\n",
              "    });\n",
              "  });\n",
              "\n",
              "  const cancel = document.createElement('button');\n",
              "  inputElement.parentElement.appendChild(cancel);\n",
              "  cancel.textContent = 'Cancel upload';\n",
              "  const cancelPromise = new Promise((resolve) => {\n",
              "    cancel.onclick = () => {\n",
              "      resolve(null);\n",
              "    };\n",
              "  });\n",
              "\n",
              "  // Wait for the user to pick the files.\n",
              "  const files = yield {\n",
              "    promise: Promise.race([pickedPromise, cancelPromise]),\n",
              "    response: {\n",
              "      action: 'starting',\n",
              "    }\n",
              "  };\n",
              "\n",
              "  cancel.remove();\n",
              "\n",
              "  // Disable the input element since further picks are not allowed.\n",
              "  inputElement.disabled = true;\n",
              "\n",
              "  if (!files) {\n",
              "    return {\n",
              "      response: {\n",
              "        action: 'complete',\n",
              "      }\n",
              "    };\n",
              "  }\n",
              "\n",
              "  for (const file of files) {\n",
              "    const li = document.createElement('li');\n",
              "    li.append(span(file.name, {fontWeight: 'bold'}));\n",
              "    li.append(span(\n",
              "        `(${file.type || 'n/a'}) - ${file.size} bytes, ` +\n",
              "        `last modified: ${\n",
              "            file.lastModifiedDate ? file.lastModifiedDate.toLocaleDateString() :\n",
              "                                    'n/a'} - `));\n",
              "    const percent = span('0% done');\n",
              "    li.appendChild(percent);\n",
              "\n",
              "    outputElement.appendChild(li);\n",
              "\n",
              "    const fileDataPromise = new Promise((resolve) => {\n",
              "      const reader = new FileReader();\n",
              "      reader.onload = (e) => {\n",
              "        resolve(e.target.result);\n",
              "      };\n",
              "      reader.readAsArrayBuffer(file);\n",
              "    });\n",
              "    // Wait for the data to be ready.\n",
              "    let fileData = yield {\n",
              "      promise: fileDataPromise,\n",
              "      response: {\n",
              "        action: 'continue',\n",
              "      }\n",
              "    };\n",
              "\n",
              "    // Use a chunked sending to avoid message size limits. See b/62115660.\n",
              "    let position = 0;\n",
              "    do {\n",
              "      const length = Math.min(fileData.byteLength - position, MAX_PAYLOAD_SIZE);\n",
              "      const chunk = new Uint8Array(fileData, position, length);\n",
              "      position += length;\n",
              "\n",
              "      const base64 = btoa(String.fromCharCode.apply(null, chunk));\n",
              "      yield {\n",
              "        response: {\n",
              "          action: 'append',\n",
              "          file: file.name,\n",
              "          data: base64,\n",
              "        },\n",
              "      };\n",
              "\n",
              "      let percentDone = fileData.byteLength === 0 ?\n",
              "          100 :\n",
              "          Math.round((position / fileData.byteLength) * 100);\n",
              "      percent.textContent = `${percentDone}% done`;\n",
              "\n",
              "    } while (position < fileData.byteLength);\n",
              "  }\n",
              "\n",
              "  // All done.\n",
              "  yield {\n",
              "    response: {\n",
              "      action: 'complete',\n",
              "    }\n",
              "  };\n",
              "}\n",
              "\n",
              "scope.google = scope.google || {};\n",
              "scope.google.colab = scope.google.colab || {};\n",
              "scope.google.colab._files = {\n",
              "  _uploadFiles,\n",
              "  _uploadFilesContinue,\n",
              "};\n",
              "})(self);\n",
              "</script> "
            ]
          },
          "metadata": {}
        },
        {
          "output_type": "stream",
          "name": "stdout",
          "text": [
            "Saving project-group-8-1-main.zip to project-group-8-1-main.zip\n"
          ]
        }
      ]
    },
    {
      "cell_type": "code",
      "source": [
        "!unzip project-group-8-1-main.zip\n"
      ],
      "metadata": {
        "colab": {
          "base_uri": "https://localhost:8080/"
        },
        "id": "qgXkj8un0P5f",
        "outputId": "ff12888a-a45a-4493-ef68-67bf69c76fa3"
      },
      "execution_count": null,
      "outputs": [
        {
          "output_type": "stream",
          "name": "stdout",
          "text": [
            "Archive:  project-group-8-1-main.zip\n",
            "3f2b9e13013cc8b059898e01f587dddd541f8919\n",
            "   creating: project-group-8-1-main/\n",
            "  inflating: project-group-8-1-main/.gitignore  \n",
            "  inflating: project-group-8-1-main/LICENSE  \n",
            "  inflating: project-group-8-1-main/README.md  \n",
            "   creating: project-group-8-1-main/data/\n",
            "  inflating: project-group-8-1-main/data/README.md  \n",
            "  inflating: project-group-8-1-main/data/download.sh  \n",
            "  inflating: project-group-8-1-main/data/output.conllu  \n",
            "   creating: project-group-8-1-main/docs/\n",
            "  inflating: project-group-8-1-main/docs/milestone1.ipynb  \n",
            "   creating: project-group-8-1-main/images/\n",
            "  inflating: project-group-8-1-main/images/tuw_nlp.png  \n",
            "   creating: project-group-8-1-main/scripts/\n",
            "  inflating: project-group-8-1-main/scripts/evaluate.py  \n",
            "  inflating: project-group-8-1-main/scripts/predict.py  \n",
            "  inflating: project-group-8-1-main/scripts/train.py  \n",
            "  inflating: project-group-8-1-main/setup.py  \n",
            "  inflating: project-group-8-1-main/team.cfg  \n",
            "   creating: project-group-8-1-main/tests/\n",
            "  inflating: project-group-8-1-main/tests/sample_data.csv  \n",
            "  inflating: project-group-8-1-main/tests/test_milestones.py  \n",
            "   creating: project-group-8-1-main/tuwnlpie/\n",
            "  inflating: project-group-8-1-main/tuwnlpie/__init__.py  \n",
            "   creating: project-group-8-1-main/tuwnlpie/milestone1/\n",
            "  inflating: project-group-8-1-main/tuwnlpie/milestone1/model.py  \n",
            "  inflating: project-group-8-1-main/tuwnlpie/milestone1/utils.py  \n",
            "   creating: project-group-8-1-main/tuwnlpie/milestone2/\n",
            "  inflating: project-group-8-1-main/tuwnlpie/milestone2/model.py  \n",
            "  inflating: project-group-8-1-main/tuwnlpie/milestone2/utils.py  \n"
          ]
        }
      ]
    },
    {
      "cell_type": "code",
      "source": [
        "\n",
        "%cd /content/project-group-8-1-main/\n",
        "\n"
      ],
      "metadata": {
        "colab": {
          "base_uri": "https://localhost:8080/"
        },
        "id": "IW0SQdV00P8k",
        "outputId": "6b1436bb-808d-4b0c-cf49-206fb85fc99d"
      },
      "execution_count": null,
      "outputs": [
        {
          "output_type": "stream",
          "name": "stdout",
          "text": [
            "/content/project-group-8-1-main\n"
          ]
        }
      ]
    },
    {
      "cell_type": "code",
      "source": [
        "!pip install -e .\n",
        "\n"
      ],
      "metadata": {
        "colab": {
          "base_uri": "https://localhost:8080/"
        },
        "id": "MOzLJmRI0QAA",
        "outputId": "e141dc03-ddc5-43ee-b39a-8a336f97c51e"
      },
      "execution_count": null,
      "outputs": [
        {
          "output_type": "stream",
          "name": "stdout",
          "text": [
            "Obtaining file:///content/project-group-8-1-main\n",
            "  Preparing metadata (setup.py) ... \u001b[?25l\u001b[?25hdone\n",
            "Requirement already satisfied: nltk==3.7 in /usr/local/lib/python3.10/dist-packages (from tuwnlpie==0.0.1) (3.7)\n",
            "Requirement already satisfied: numpy==1.23.3 in /usr/local/lib/python3.10/dist-packages (from tuwnlpie==0.0.1) (1.23.3)\n",
            "Requirement already satisfied: torch==1.12.1 in /usr/local/lib/python3.10/dist-packages (from tuwnlpie==0.0.1) (1.12.1)\n",
            "Requirement already satisfied: pandas==1.5.0 in /usr/local/lib/python3.10/dist-packages (from tuwnlpie==0.0.1) (1.5.0)\n",
            "Requirement already satisfied: scikit-learn==1.1.2 in /usr/local/lib/python3.10/dist-packages (from tuwnlpie==0.0.1) (1.1.2)\n",
            "Requirement already satisfied: stanza==1.6.1 in /usr/local/lib/python3.10/dist-packages (from tuwnlpie==0.0.1) (1.6.1)\n",
            "Requirement already satisfied: click in /usr/local/lib/python3.10/dist-packages (from nltk==3.7->tuwnlpie==0.0.1) (8.1.7)\n",
            "Requirement already satisfied: joblib in /usr/local/lib/python3.10/dist-packages (from nltk==3.7->tuwnlpie==0.0.1) (1.3.2)\n",
            "Requirement already satisfied: regex>=2021.8.3 in /usr/local/lib/python3.10/dist-packages (from nltk==3.7->tuwnlpie==0.0.1) (2023.6.3)\n",
            "Requirement already satisfied: tqdm in /usr/local/lib/python3.10/dist-packages (from nltk==3.7->tuwnlpie==0.0.1) (4.66.1)\n",
            "Requirement already satisfied: python-dateutil>=2.8.1 in /usr/local/lib/python3.10/dist-packages (from pandas==1.5.0->tuwnlpie==0.0.1) (2.8.2)\n",
            "Requirement already satisfied: pytz>=2020.1 in /usr/local/lib/python3.10/dist-packages (from pandas==1.5.0->tuwnlpie==0.0.1) (2023.3.post1)\n",
            "Requirement already satisfied: scipy>=1.3.2 in /usr/local/lib/python3.10/dist-packages (from scikit-learn==1.1.2->tuwnlpie==0.0.1) (1.11.3)\n",
            "Requirement already satisfied: threadpoolctl>=2.0.0 in /usr/local/lib/python3.10/dist-packages (from scikit-learn==1.1.2->tuwnlpie==0.0.1) (3.2.0)\n",
            "Requirement already satisfied: emoji in /usr/local/lib/python3.10/dist-packages (from stanza==1.6.1->tuwnlpie==0.0.1) (2.8.0)\n",
            "Requirement already satisfied: protobuf>=3.15.0 in /usr/local/lib/python3.10/dist-packages (from stanza==1.6.1->tuwnlpie==0.0.1) (3.20.3)\n",
            "Requirement already satisfied: requests in /usr/local/lib/python3.10/dist-packages (from stanza==1.6.1->tuwnlpie==0.0.1) (2.31.0)\n",
            "Requirement already satisfied: typing-extensions in /usr/local/lib/python3.10/dist-packages (from torch==1.12.1->tuwnlpie==0.0.1) (4.5.0)\n",
            "Requirement already satisfied: six>=1.5 in /usr/local/lib/python3.10/dist-packages (from python-dateutil>=2.8.1->pandas==1.5.0->tuwnlpie==0.0.1) (1.16.0)\n",
            "Requirement already satisfied: charset-normalizer<4,>=2 in /usr/local/lib/python3.10/dist-packages (from requests->stanza==1.6.1->tuwnlpie==0.0.1) (3.3.1)\n",
            "Requirement already satisfied: idna<4,>=2.5 in /usr/local/lib/python3.10/dist-packages (from requests->stanza==1.6.1->tuwnlpie==0.0.1) (3.4)\n",
            "Requirement already satisfied: urllib3<3,>=1.21.1 in /usr/local/lib/python3.10/dist-packages (from requests->stanza==1.6.1->tuwnlpie==0.0.1) (2.0.7)\n",
            "Requirement already satisfied: certifi>=2017.4.17 in /usr/local/lib/python3.10/dist-packages (from requests->stanza==1.6.1->tuwnlpie==0.0.1) (2023.7.22)\n",
            "Installing collected packages: tuwnlpie\n",
            "  Attempting uninstall: tuwnlpie\n",
            "    Found existing installation: tuwnlpie 0.0.1\n",
            "    Uninstalling tuwnlpie-0.0.1:\n",
            "      Successfully uninstalled tuwnlpie-0.0.1\n",
            "  Running setup.py develop for tuwnlpie\n",
            "Successfully installed tuwnlpie-0.0.1\n"
          ]
        }
      ]
    },
    {
      "cell_type": "code",
      "source": [
        "!pip install pytest"
      ],
      "metadata": {
        "colab": {
          "base_uri": "https://localhost:8080/"
        },
        "id": "Rowc9DgTxffd",
        "outputId": "fd2a8ba0-469d-40b1-c4b6-cb8b8a2a8eb7"
      },
      "execution_count": null,
      "outputs": [
        {
          "output_type": "stream",
          "name": "stdout",
          "text": [
            "Requirement already satisfied: pytest in /usr/local/lib/python3.10/dist-packages (7.4.3)\n",
            "Requirement already satisfied: iniconfig in /usr/local/lib/python3.10/dist-packages (from pytest) (2.0.0)\n",
            "Requirement already satisfied: packaging in /usr/local/lib/python3.10/dist-packages (from pytest) (23.2)\n",
            "Requirement already satisfied: pluggy<2.0,>=0.12 in /usr/local/lib/python3.10/dist-packages (from pytest) (1.3.0)\n",
            "Requirement already satisfied: exceptiongroup>=1.0.0rc8 in /usr/local/lib/python3.10/dist-packages (from pytest) (1.1.3)\n",
            "Requirement already satisfied: tomli>=1.0.0 in /usr/local/lib/python3.10/dist-packages (from pytest) (2.0.1)\n"
          ]
        }
      ]
    },
    {
      "cell_type": "code",
      "source": [
        "%cd project-group-8-1-main"
      ],
      "metadata": {
        "colab": {
          "base_uri": "https://localhost:8080/"
        },
        "id": "mj_L6y7xxo4S",
        "outputId": "829e4213-fe77-4179-d3b1-33ceb91a8e7b"
      },
      "execution_count": null,
      "outputs": [
        {
          "output_type": "stream",
          "name": "stdout",
          "text": [
            "/content/project-group-8-1-main/project-group-8-1-main\n"
          ]
        }
      ]
    },
    {
      "cell_type": "code",
      "source": [],
      "metadata": {
        "id": "leS49igZxpF0"
      },
      "execution_count": null,
      "outputs": []
    },
    {
      "cell_type": "code",
      "source": [],
      "metadata": {
        "id": "bkCwP7gexpNb"
      },
      "execution_count": null,
      "outputs": []
    },
    {
      "cell_type": "code",
      "source": [
        "from google.colab import files\n",
        "uploaded = files.upload()\n",
        "\n"
      ],
      "metadata": {
        "colab": {
          "base_uri": "https://localhost:8080/",
          "height": 73
        },
        "id": "TxqzRhGG0QDN",
        "outputId": "834b0eb0-d8a7-4068-fdab-1d00e2cd1659"
      },
      "execution_count": null,
      "outputs": [
        {
          "output_type": "display_data",
          "data": {
            "text/plain": [
              "<IPython.core.display.HTML object>"
            ],
            "text/html": [
              "\n",
              "     <input type=\"file\" id=\"files-f9385123-d337-471f-a844-a65b36377213\" name=\"files[]\" multiple disabled\n",
              "        style=\"border:none\" />\n",
              "     <output id=\"result-f9385123-d337-471f-a844-a65b36377213\">\n",
              "      Upload widget is only available when the cell has been executed in the\n",
              "      current browser session. Please rerun this cell to enable.\n",
              "      </output>\n",
              "      <script>// Copyright 2017 Google LLC\n",
              "//\n",
              "// Licensed under the Apache License, Version 2.0 (the \"License\");\n",
              "// you may not use this file except in compliance with the License.\n",
              "// You may obtain a copy of the License at\n",
              "//\n",
              "//      http://www.apache.org/licenses/LICENSE-2.0\n",
              "//\n",
              "// Unless required by applicable law or agreed to in writing, software\n",
              "// distributed under the License is distributed on an \"AS IS\" BASIS,\n",
              "// WITHOUT WARRANTIES OR CONDITIONS OF ANY KIND, either express or implied.\n",
              "// See the License for the specific language governing permissions and\n",
              "// limitations under the License.\n",
              "\n",
              "/**\n",
              " * @fileoverview Helpers for google.colab Python module.\n",
              " */\n",
              "(function(scope) {\n",
              "function span(text, styleAttributes = {}) {\n",
              "  const element = document.createElement('span');\n",
              "  element.textContent = text;\n",
              "  for (const key of Object.keys(styleAttributes)) {\n",
              "    element.style[key] = styleAttributes[key];\n",
              "  }\n",
              "  return element;\n",
              "}\n",
              "\n",
              "// Max number of bytes which will be uploaded at a time.\n",
              "const MAX_PAYLOAD_SIZE = 100 * 1024;\n",
              "\n",
              "function _uploadFiles(inputId, outputId) {\n",
              "  const steps = uploadFilesStep(inputId, outputId);\n",
              "  const outputElement = document.getElementById(outputId);\n",
              "  // Cache steps on the outputElement to make it available for the next call\n",
              "  // to uploadFilesContinue from Python.\n",
              "  outputElement.steps = steps;\n",
              "\n",
              "  return _uploadFilesContinue(outputId);\n",
              "}\n",
              "\n",
              "// This is roughly an async generator (not supported in the browser yet),\n",
              "// where there are multiple asynchronous steps and the Python side is going\n",
              "// to poll for completion of each step.\n",
              "// This uses a Promise to block the python side on completion of each step,\n",
              "// then passes the result of the previous step as the input to the next step.\n",
              "function _uploadFilesContinue(outputId) {\n",
              "  const outputElement = document.getElementById(outputId);\n",
              "  const steps = outputElement.steps;\n",
              "\n",
              "  const next = steps.next(outputElement.lastPromiseValue);\n",
              "  return Promise.resolve(next.value.promise).then((value) => {\n",
              "    // Cache the last promise value to make it available to the next\n",
              "    // step of the generator.\n",
              "    outputElement.lastPromiseValue = value;\n",
              "    return next.value.response;\n",
              "  });\n",
              "}\n",
              "\n",
              "/**\n",
              " * Generator function which is called between each async step of the upload\n",
              " * process.\n",
              " * @param {string} inputId Element ID of the input file picker element.\n",
              " * @param {string} outputId Element ID of the output display.\n",
              " * @return {!Iterable<!Object>} Iterable of next steps.\n",
              " */\n",
              "function* uploadFilesStep(inputId, outputId) {\n",
              "  const inputElement = document.getElementById(inputId);\n",
              "  inputElement.disabled = false;\n",
              "\n",
              "  const outputElement = document.getElementById(outputId);\n",
              "  outputElement.innerHTML = '';\n",
              "\n",
              "  const pickedPromise = new Promise((resolve) => {\n",
              "    inputElement.addEventListener('change', (e) => {\n",
              "      resolve(e.target.files);\n",
              "    });\n",
              "  });\n",
              "\n",
              "  const cancel = document.createElement('button');\n",
              "  inputElement.parentElement.appendChild(cancel);\n",
              "  cancel.textContent = 'Cancel upload';\n",
              "  const cancelPromise = new Promise((resolve) => {\n",
              "    cancel.onclick = () => {\n",
              "      resolve(null);\n",
              "    };\n",
              "  });\n",
              "\n",
              "  // Wait for the user to pick the files.\n",
              "  const files = yield {\n",
              "    promise: Promise.race([pickedPromise, cancelPromise]),\n",
              "    response: {\n",
              "      action: 'starting',\n",
              "    }\n",
              "  };\n",
              "\n",
              "  cancel.remove();\n",
              "\n",
              "  // Disable the input element since further picks are not allowed.\n",
              "  inputElement.disabled = true;\n",
              "\n",
              "  if (!files) {\n",
              "    return {\n",
              "      response: {\n",
              "        action: 'complete',\n",
              "      }\n",
              "    };\n",
              "  }\n",
              "\n",
              "  for (const file of files) {\n",
              "    const li = document.createElement('li');\n",
              "    li.append(span(file.name, {fontWeight: 'bold'}));\n",
              "    li.append(span(\n",
              "        `(${file.type || 'n/a'}) - ${file.size} bytes, ` +\n",
              "        `last modified: ${\n",
              "            file.lastModifiedDate ? file.lastModifiedDate.toLocaleDateString() :\n",
              "                                    'n/a'} - `));\n",
              "    const percent = span('0% done');\n",
              "    li.appendChild(percent);\n",
              "\n",
              "    outputElement.appendChild(li);\n",
              "\n",
              "    const fileDataPromise = new Promise((resolve) => {\n",
              "      const reader = new FileReader();\n",
              "      reader.onload = (e) => {\n",
              "        resolve(e.target.result);\n",
              "      };\n",
              "      reader.readAsArrayBuffer(file);\n",
              "    });\n",
              "    // Wait for the data to be ready.\n",
              "    let fileData = yield {\n",
              "      promise: fileDataPromise,\n",
              "      response: {\n",
              "        action: 'continue',\n",
              "      }\n",
              "    };\n",
              "\n",
              "    // Use a chunked sending to avoid message size limits. See b/62115660.\n",
              "    let position = 0;\n",
              "    do {\n",
              "      const length = Math.min(fileData.byteLength - position, MAX_PAYLOAD_SIZE);\n",
              "      const chunk = new Uint8Array(fileData, position, length);\n",
              "      position += length;\n",
              "\n",
              "      const base64 = btoa(String.fromCharCode.apply(null, chunk));\n",
              "      yield {\n",
              "        response: {\n",
              "          action: 'append',\n",
              "          file: file.name,\n",
              "          data: base64,\n",
              "        },\n",
              "      };\n",
              "\n",
              "      let percentDone = fileData.byteLength === 0 ?\n",
              "          100 :\n",
              "          Math.round((position / fileData.byteLength) * 100);\n",
              "      percent.textContent = `${percentDone}% done`;\n",
              "\n",
              "    } while (position < fileData.byteLength);\n",
              "  }\n",
              "\n",
              "  // All done.\n",
              "  yield {\n",
              "    response: {\n",
              "      action: 'complete',\n",
              "    }\n",
              "  };\n",
              "}\n",
              "\n",
              "scope.google = scope.google || {};\n",
              "scope.google.colab = scope.google.colab || {};\n",
              "scope.google.colab._files = {\n",
              "  _uploadFiles,\n",
              "  _uploadFilesContinue,\n",
              "};\n",
              "})(self);\n",
              "</script> "
            ]
          },
          "metadata": {}
        },
        {
          "output_type": "stream",
          "name": "stdout",
          "text": [
            "Saving nlp2023_toxic_german-main.zip to nlp2023_toxic_german-main.zip\n"
          ]
        }
      ]
    },
    {
      "cell_type": "code",
      "source": [
        "!unzip nlp2023_toxic_german-main.zip"
      ],
      "metadata": {
        "colab": {
          "base_uri": "https://localhost:8080/"
        },
        "id": "kEbM4RU30QF2",
        "outputId": "3cc328df-6d68-4f28-e08b-f1fc476089b7"
      },
      "execution_count": null,
      "outputs": [
        {
          "output_type": "stream",
          "name": "stdout",
          "text": [
            "Archive:  nlp2023_toxic_german-main.zip\n",
            "4fde8b28de989104aafed1c7844eeb5cb37cc439\n",
            "   creating: nlp2023_toxic_german-main/\n",
            "  inflating: nlp2023_toxic_german-main/.DS_Store  \n",
            "  inflating: nlp2023_toxic_german-main/data_all.json  \n",
            "  inflating: nlp2023_toxic_german-main/nlp2023_toxic_german.pdf  \n",
            "   creating: nlp2023_toxic_german-main/train_dev_test/\n",
            "  inflating: nlp2023_toxic_german-main/train_dev_test/split_0.json  \n",
            "  inflating: nlp2023_toxic_german-main/train_dev_test/split_1.json  \n",
            "  inflating: nlp2023_toxic_german-main/train_dev_test/split_2.json  \n",
            "  inflating: nlp2023_toxic_german-main/train_dev_test/split_3.json  \n",
            "  inflating: nlp2023_toxic_german-main/train_dev_test/split_4.json  \n",
            "  inflating: nlp2023_toxic_german-main/train_dev_test/split_5.json  \n",
            "  inflating: nlp2023_toxic_german-main/train_dev_test/split_6.json  \n",
            "  inflating: nlp2023_toxic_german-main/train_dev_test/split_7.json  \n",
            "  inflating: nlp2023_toxic_german-main/train_dev_test/split_8.json  \n",
            "  inflating: nlp2023_toxic_german-main/train_dev_test/split_9.json  \n"
          ]
        }
      ]
    },
    {
      "cell_type": "code",
      "source": [],
      "metadata": {
        "id": "NT_pxsQv95r7"
      },
      "execution_count": null,
      "outputs": []
    },
    {
      "cell_type": "code",
      "source": [],
      "metadata": {
        "id": "WWfilxs_9533"
      },
      "execution_count": null,
      "outputs": []
    },
    {
      "cell_type": "code",
      "source": [],
      "metadata": {
        "id": "PoAvMzDe957u"
      },
      "execution_count": null,
      "outputs": []
    },
    {
      "cell_type": "code",
      "source": [
        "!pip install stanza\n"
      ],
      "metadata": {
        "colab": {
          "base_uri": "https://localhost:8080/"
        },
        "id": "-lPiD0Gx95_n",
        "outputId": "8c9be91c-ed65-4619-9419-0303d9f16466"
      },
      "execution_count": null,
      "outputs": [
        {
          "output_type": "stream",
          "name": "stdout",
          "text": [
            "Requirement already satisfied: stanza in /usr/local/lib/python3.10/dist-packages (1.6.1)\n",
            "Requirement already satisfied: emoji in /usr/local/lib/python3.10/dist-packages (from stanza) (2.8.0)\n",
            "Requirement already satisfied: numpy in /usr/local/lib/python3.10/dist-packages (from stanza) (1.23.3)\n",
            "Requirement already satisfied: protobuf>=3.15.0 in /usr/local/lib/python3.10/dist-packages (from stanza) (3.20.3)\n",
            "Requirement already satisfied: requests in /usr/local/lib/python3.10/dist-packages (from stanza) (2.31.0)\n",
            "Requirement already satisfied: torch>=1.3.0 in /usr/local/lib/python3.10/dist-packages (from stanza) (1.12.1)\n",
            "Requirement already satisfied: tqdm in /usr/local/lib/python3.10/dist-packages (from stanza) (4.66.1)\n",
            "Requirement already satisfied: typing-extensions in /usr/local/lib/python3.10/dist-packages (from torch>=1.3.0->stanza) (4.5.0)\n",
            "Requirement already satisfied: charset-normalizer<4,>=2 in /usr/local/lib/python3.10/dist-packages (from requests->stanza) (3.3.1)\n",
            "Requirement already satisfied: idna<4,>=2.5 in /usr/local/lib/python3.10/dist-packages (from requests->stanza) (3.4)\n",
            "Requirement already satisfied: urllib3<3,>=1.21.1 in /usr/local/lib/python3.10/dist-packages (from requests->stanza) (2.0.7)\n",
            "Requirement already satisfied: certifi>=2017.4.17 in /usr/local/lib/python3.10/dist-packages (from requests->stanza) (2023.7.22)\n"
          ]
        }
      ]
    },
    {
      "cell_type": "code",
      "execution_count": null,
      "metadata": {
        "id": "s8lM98MQvSpa"
      },
      "outputs": [],
      "source": [
        "import stanza\n",
        "\n",
        "from tuwnlpie.milestone1.model import SimpleNBClassifier\n",
        "from tuwnlpie.milestone1.utils import read_docs_from_csv, split_train_dev_test"
      ]
    },
    {
      "cell_type": "code",
      "execution_count": null,
      "metadata": {
        "id": "49udODqfvSpd"
      },
      "outputs": [],
      "source": []
    },
    {
      "cell_type": "code",
      "execution_count": null,
      "metadata": {
        "colab": {
          "base_uri": "https://localhost:8080/"
        },
        "id": "7SVFAPo2vSpe",
        "outputId": "6236e777-acba-44a3-ca11-06db9efbbcef"
      },
      "outputs": [
        {
          "output_type": "stream",
          "name": "stdout",
          "text": [
            "<class 'pandas.core.frame.DataFrame'>\n",
            "RangeIndex: 4473 entries, 0 to 4472\n",
            "Data columns (total 5 columns):\n",
            " #   Column         Non-Null Count  Dtype \n",
            "---  ------         --------------  ----- \n",
            " 0   Index          4473 non-null   int64 \n",
            " 1   Article_title  4473 non-null   object\n",
            " 2   Comment        4473 non-null   object\n",
            " 3   Label          4473 non-null   int64 \n",
            " 4   Tags           4473 non-null   object\n",
            "dtypes: int64(2), object(3)\n",
            "memory usage: 174.9+ KB\n"
          ]
        }
      ],
      "source": [
        "\n",
        "\n",
        "\n",
        "file_path = \"nlp2023_toxic_german-main/data_all.json\"\n",
        "df = pd.read_json(file_path)\n",
        "df.info()\n"
      ]
    },
    {
      "cell_type": "code",
      "source": [
        "nlp = stanza.Pipeline('de', processors='tokenize,lemma,pos')\n",
        "text = df.loc[0]['Comment']\n",
        "doc = nlp(text)\n",
        "CoNLL.write_doc2conll(doc,\"../data/output.conllu\")"
      ],
      "metadata": {
        "colab": {
          "base_uri": "https://localhost:8080/",
          "height": 381,
          "referenced_widgets": [
            "6c9bbccc069140239acc2a019ee0260c",
            "1299e59b7b184667a94e6d2429ec1b24",
            "2960fddf7e654d31b3bd59e7b7e56b56",
            "70770329c5494c1aaddc695f9b5c62d0",
            "d3d40f225618448a9a35eb6bcd25a31f",
            "6047786f7cdc4ccda1c4ca1382ba2b29",
            "066b2ef27408445190cdc8924fc4bcbe",
            "53dd47de231547fd87157e1dbb4ebe09",
            "4774377116db40ec96fbdfb0e52459a4",
            "879353b97a1d4c5990d3a6eabb6b6563",
            "10e9a1ed37554237813f4274eb9ca891"
          ]
        },
        "id": "gJiKixPF-tzU",
        "outputId": "de57d783-d6b6-42d7-d889-a9903072e56a"
      },
      "execution_count": null,
      "outputs": [
        {
          "output_type": "stream",
          "name": "stderr",
          "text": [
            "INFO:stanza:Checking for updates to resources.json in case models have been updated.  Note: this behavior can be turned off with download_method=None or download_method=DownloadMethod.REUSE_RESOURCES\n"
          ]
        },
        {
          "output_type": "display_data",
          "data": {
            "text/plain": [
              "Downloading https://raw.githubusercontent.com/stanfordnlp/stanza-resources/main/resources_1.6.0.json:   0%|   …"
            ],
            "application/vnd.jupyter.widget-view+json": {
              "version_major": 2,
              "version_minor": 0,
              "model_id": "6c9bbccc069140239acc2a019ee0260c"
            }
          },
          "metadata": {}
        },
        {
          "output_type": "stream",
          "name": "stderr",
          "text": [
            "WARNING:stanza:Language de package default expects mwt, which has been added\n",
            "INFO:stanza:Loading these models for language: de (German):\n",
            "============================\n",
            "| Processor | Package      |\n",
            "----------------------------\n",
            "| tokenize  | gsd          |\n",
            "| mwt       | gsd          |\n",
            "| pos       | gsd_charlm   |\n",
            "| lemma     | gsd_nocharlm |\n",
            "============================\n",
            "\n",
            "INFO:stanza:Using device: cpu\n",
            "INFO:stanza:Loading: tokenize\n",
            "INFO:stanza:Loading: mwt\n",
            "INFO:stanza:Loading: pos\n",
            "INFO:stanza:Loading: lemma\n",
            "INFO:stanza:Done loading processors!\n"
          ]
        }
      ]
    },
    {
      "cell_type": "code",
      "source": [
        "model = SimpleNBClassifier()"
      ],
      "metadata": {
        "id": "JI9jYQIA-uDW"
      },
      "execution_count": null,
      "outputs": []
    },
    {
      "cell_type": "code",
      "source": [
        "import os\n",
        "import nltk\n",
        "nltk.download('punkt')\n",
        "current_dir = os.getcwd()\n",
        "file_path = \"tests/sample_data.csv\"\n",
        "docs = read_docs_from_csv(file_path)\n"
      ],
      "metadata": {
        "colab": {
          "base_uri": "https://localhost:8080/"
        },
        "id": "yQ6aY5XxW7qD",
        "outputId": "104b6a73-8627-48cf-9f1b-e5f87ecdba29"
      },
      "execution_count": null,
      "outputs": [
        {
          "output_type": "stream",
          "name": "stderr",
          "text": [
            "[nltk_data] Downloading package punkt to /root/nltk_data...\n",
            "[nltk_data]   Package punkt is already up-to-date!\n",
            "8it [00:00, 552.33it/s]\n"
          ]
        }
      ]
    },
    {
      "cell_type": "code",
      "source": [
        "train_docs, dev_docs, test_docs = split_train_dev_test(docs)\n"
      ],
      "metadata": {
        "id": "P0MmH3Dd-9k3"
      },
      "execution_count": null,
      "outputs": []
    },
    {
      "cell_type": "code",
      "source": [
        "model.count_words(train_docs)\n",
        "model.calculate_weights()"
      ],
      "metadata": {
        "colab": {
          "base_uri": "https://localhost:8080/"
        },
        "id": "FT0eEStV-9uV",
        "outputId": "6aa103dd-dd2e-4ac9-ec6c-33df16e25826"
      },
      "execution_count": null,
      "outputs": [
        {
          "output_type": "stream",
          "name": "stderr",
          "text": [
            "INFO:tuwnlpie:Counting words\n",
            "INFO:tuwnlpie:Calculating weights\n",
            "INFO:tuwnlpie:Finished training\n"
          ]
        }
      ]
    },
    {
      "cell_type": "code",
      "source": [
        "doc1 = (\"This\", \"movie\", \"is\", \"stupid\")\n",
        "doc2 = (\"I\", \"loved\", \"this\", \"movie\")\n",
        "doc3 = (\"This\", \"is\", \"the\", \"most\", \"famous\", \"movie\", \"by\", \"Aaron\")"
      ],
      "metadata": {
        "id": "QIjPNyb6-9yS"
      },
      "execution_count": null,
      "outputs": []
    },
    {
      "cell_type": "code",
      "source": [
        "model.predict_label(doc1)"
      ],
      "metadata": {
        "colab": {
          "base_uri": "https://localhost:8080/",
          "height": 35
        },
        "id": "rxagf6X_-932",
        "outputId": "779bae06-9cc4-4462-821c-40552e7166b7"
      },
      "execution_count": null,
      "outputs": [
        {
          "output_type": "execute_result",
          "data": {
            "text/plain": [
              "'positive'"
            ],
            "application/vnd.google.colaboratory.intrinsic+json": {
              "type": "string"
            }
          },
          "metadata": {},
          "execution_count": 140
        }
      ]
    },
    {
      "cell_type": "code",
      "execution_count": null,
      "metadata": {
        "colab": {
          "base_uri": "https://localhost:8080/",
          "height": 35
        },
        "id": "BMItHRm5vSpf",
        "outputId": "95b9797f-a570-4392-a868-e7f0d1948812"
      },
      "outputs": [
        {
          "output_type": "execute_result",
          "data": {
            "text/plain": [
              "'positive'"
            ],
            "application/vnd.google.colaboratory.intrinsic+json": {
              "type": "string"
            }
          },
          "metadata": {},
          "execution_count": 141
        }
      ],
      "source": [
        "model.predict_label(doc2)"
      ]
    },
    {
      "cell_type": "code",
      "source": [
        "model.predict_label(doc3)"
      ],
      "metadata": {
        "colab": {
          "base_uri": "https://localhost:8080/",
          "height": 35
        },
        "id": "Ao4U_mEA34Bt",
        "outputId": "e25eccf0-2158-45c0-9419-72016c97fbae"
      },
      "execution_count": null,
      "outputs": [
        {
          "output_type": "execute_result",
          "data": {
            "text/plain": [
              "'positive'"
            ],
            "application/vnd.google.colaboratory.intrinsic+json": {
              "type": "string"
            }
          },
          "metadata": {},
          "execution_count": 142
        }
      ]
    },
    {
      "cell_type": "code",
      "execution_count": null,
      "metadata": {
        "colab": {
          "base_uri": "https://localhost:8080/"
        },
        "id": "LvcmPrWEvSpg",
        "outputId": "9e18256c-1155-45f4-9eb9-00cab05a535d"
      },
      "outputs": [
        {
          "output_type": "execute_result",
          "data": {
            "text/plain": [
              "{'positive': -15.393566218482498, 'negative': -16.19207391470027}"
            ]
          },
          "metadata": {},
          "execution_count": 143
        }
      ],
      "source": [
        "model.get_doc_weights(doc1)\n"
      ]
    },
    {
      "cell_type": "code",
      "source": [
        "model.get_doc_weights(doc2)"
      ],
      "metadata": {
        "colab": {
          "base_uri": "https://localhost:8080/"
        },
        "id": "NLLABDZIxdGY",
        "outputId": "f93080d8-1b46-4de3-a702-a826281151ea"
      },
      "execution_count": null,
      "outputs": [
        {
          "output_type": "execute_result",
          "data": {
            "text/plain": [
              "{'positive': -20.361646603588376, 'negative': -21.224692820943716}"
            ]
          },
          "metadata": {},
          "execution_count": 144
        }
      ]
    },
    {
      "cell_type": "code",
      "source": [
        "model.get_doc_weights(doc3)"
      ],
      "metadata": {
        "colab": {
          "base_uri": "https://localhost:8080/"
        },
        "id": "jFUIzC-D6g6c",
        "outputId": "891f256e-c936-4ea4-abf5-36983f9b7e86"
      },
      "execution_count": null,
      "outputs": [
        {
          "output_type": "execute_result",
          "data": {
            "text/plain": [
              "{'positive': -25.353415200684378, 'negative': -26.662748520668142}"
            ]
          },
          "metadata": {},
          "execution_count": 145
        }
      ]
    },
    {
      "cell_type": "code",
      "execution_count": null,
      "metadata": {
        "colab": {
          "base_uri": "https://localhost:8080/"
        },
        "id": "CTiTR8a0vSph",
        "outputId": "c1d10cd7-089e-444b-8934-cad6ddf26a19"
      },
      "outputs": [
        {
          "output_type": "stream",
          "name": "stdout",
          "text": [
            "        This       -5.43       -6.12        0.69\n",
            "       movie       -5.44       -5.03       -0.41\n",
            "          is       -4.53       -5.04        0.51\n",
            "Word 'stupid' is not in the model's vocabulary.\n"
          ]
        }
      ],
      "source": [
        "doc1 = [\"This\", \"movie\", \"is\", \"stupid\"]\n",
        "\n",
        "for word in doc1:\n",
        "    if word in model.weights:\n",
        "        print(\n",
        "            \"{:>12}{:>12.2f}{:>12.2f}{:>12.2f}\".format(\n",
        "                word,\n",
        "                model.weights[word][\"positive\"],\n",
        "                model.weights[word][\"negative\"],\n",
        "                model.weights[word][\"positive\"] - model.weights[word][\"negative\"],\n",
        "            )\n",
        "        )\n",
        "    else:\n",
        "        print(f\"Word '{word}' is not in the model's vocabulary.\")\n"
      ]
    },
    {
      "cell_type": "code",
      "execution_count": null,
      "metadata": {
        "colab": {
          "base_uri": "https://localhost:8080/"
        },
        "id": "IGWKdRLMvSpi",
        "outputId": "469e1402-8124-4aa0-a9de-2748703bc5f3"
      },
      "outputs": [
        {
          "output_type": "stream",
          "name": "stderr",
          "text": [
            "INFO:tuwnlpie:Counting words\n",
            "INFO:tuwnlpie:Calculating weights\n",
            "INFO:tuwnlpie:Finished training\n"
          ]
        }
      ],
      "source": [
        "model.count_words(train_docs)\n",
        "model.calculate_weights()"
      ]
    },
    {
      "cell_type": "code",
      "execution_count": null,
      "metadata": {
        "colab": {
          "base_uri": "https://localhost:8080/",
          "height": 35
        },
        "id": "cc4xRYdQvSpk",
        "outputId": "7eae6c81-e380-4457-e36d-a65c7da9305d"
      },
      "outputs": [
        {
          "output_type": "execute_result",
          "data": {
            "text/plain": [
              "'positive'"
            ],
            "application/vnd.google.colaboratory.intrinsic+json": {
              "type": "string"
            }
          },
          "metadata": {},
          "execution_count": 149
        }
      ],
      "source": [
        "model.predict_label(doc2)"
      ]
    },
    {
      "cell_type": "code",
      "execution_count": null,
      "metadata": {
        "colab": {
          "base_uri": "https://localhost:8080/",
          "height": 35
        },
        "id": "jOx-d07BvSpm",
        "outputId": "cc3ebcbe-a7dd-4926-d7da-36f78c8a05bc"
      },
      "outputs": [
        {
          "output_type": "execute_result",
          "data": {
            "text/plain": [
              "'positive'"
            ],
            "application/vnd.google.colaboratory.intrinsic+json": {
              "type": "string"
            }
          },
          "metadata": {},
          "execution_count": 150
        }
      ],
      "source": [
        "model.predict_label(doc3)"
      ]
    },
    {
      "cell_type": "code",
      "execution_count": null,
      "metadata": {
        "colab": {
          "base_uri": "https://localhost:8080/"
        },
        "id": "cAnBQ2gIvSpn",
        "outputId": "7b5ed741-745a-4794-8488-f9a93d31cc6f"
      },
      "outputs": [
        {
          "output_type": "execute_result",
          "data": {
            "text/plain": [
              "{'positive': -14.016453216441132, 'negative': -15.19202654624537}"
            ]
          },
          "metadata": {},
          "execution_count": 151
        }
      ],
      "source": [
        "model.get_doc_weights(doc1)"
      ]
    },
    {
      "cell_type": "code",
      "execution_count": null,
      "metadata": {
        "colab": {
          "base_uri": "https://localhost:8080/"
        },
        "id": "MShJlcGkvSpn",
        "outputId": "5ef8da37-52f9-4306-dfcc-9612fd37f27d"
      },
      "outputs": [
        {
          "output_type": "execute_result",
          "data": {
            "text/plain": [
              "{'positive': -18.46176046800037, 'negative': -19.722491606144917}"
            ]
          },
          "metadata": {},
          "execution_count": 152
        }
      ],
      "source": [
        "model.get_doc_weights(doc2)"
      ]
    },
    {
      "cell_type": "code",
      "execution_count": null,
      "metadata": {
        "colab": {
          "base_uri": "https://localhost:8080/"
        },
        "id": "TMCKhhlJvSpo",
        "outputId": "8dd245a5-a769-4d3e-e20e-6d06bbc522d3"
      },
      "outputs": [
        {
          "output_type": "execute_result",
          "data": {
            "text/plain": [
              "{'positive': -23.000311135837592, 'negative': -24.763671130543948}"
            ]
          },
          "metadata": {},
          "execution_count": 153
        }
      ],
      "source": [
        "model.get_doc_weights(doc3)"
      ]
    },
    {
      "cell_type": "code",
      "execution_count": null,
      "metadata": {
        "colab": {
          "base_uri": "https://localhost:8080/"
        },
        "id": "RMvjBC8tvSpp",
        "outputId": "317ec1bd-7d51-4ac8-b121-cd1cb8418b46"
      },
      "outputs": [
        {
          "output_type": "stream",
          "name": "stdout",
          "text": [
            "This {'positive': -5.028256895446075, 'negative': -6.126869184114185}\n",
            "movie {'positive': -5.0369526024136295, 'negative': -4.526126978647638}\n",
            "is {'positive': -3.951243718581427, 'negative': -4.539030383483547}\n",
            "Word 'stupid' is not in the model's vocabulary.\n"
          ]
        }
      ],
      "source": [
        "\n",
        "for word in doc1:\n",
        "  if word in model.weights:\n",
        "    print(word, model.weights[word])\n",
        "else:\n",
        "    print(f\"Word '{word}' is not in the model's vocabulary.\")\n"
      ]
    },
    {
      "cell_type": "code",
      "execution_count": null,
      "metadata": {
        "colab": {
          "base_uri": "https://localhost:8080/"
        },
        "id": "jEQZRyudvSpp",
        "outputId": "c84f880f-7b70-4f2f-d35c-267b7e451194"
      },
      "outputs": [
        {
          "output_type": "stream",
          "name": "stdout",
          "text": [
            "I {'positive': -4.198275485070333, 'negative': -4.534747721691546}\n",
            "loved {'positive': -5.028256895446075, 'negative': -6.126869184114185}\n",
            "this {'positive': -4.198275485070333, 'negative': -4.534747721691546}\n",
            "movie {'positive': -5.0369526024136295, 'negative': -4.526126978647638}\n",
            "Word 'movie' is not in the model's vocabulary.\n"
          ]
        }
      ],
      "source": [
        "\n",
        "for word in doc2:\n",
        "  if word in model.weights:\n",
        "    print(word, model.weights[word])\n",
        "else:\n",
        "    print(f\"Word '{word}' is not in the model's vocabulary.\")"
      ]
    },
    {
      "cell_type": "code",
      "execution_count": null,
      "metadata": {
        "colab": {
          "base_uri": "https://localhost:8080/"
        },
        "id": "vpxmw-wwvSpq",
        "outputId": "fbdc730a-0268-4d32-8b65-7da5b28216b4"
      },
      "outputs": [
        {
          "output_type": "stream",
          "name": "stdout",
          "text": [
            "This {'positive': -5.028256895446075, 'negative': -6.126869184114185}\n",
            "movie {'positive': -5.0369526024136295, 'negative': -4.526126978647638}\n",
            "is {'positive': -3.951243718581427, 'negative': -4.539030383483547}\n",
            "Word 'stupid' is not in the model's vocabulary.\n"
          ]
        }
      ],
      "source": [
        "\n",
        "\n",
        "for word in doc1:\n",
        "  if word in model.weights:\n",
        "    print(word, model.weights[word])\n",
        "else:\n",
        "    print(f\"Word '{word}' is not in the model's vocabulary.\")\n"
      ]
    },
    {
      "cell_type": "code",
      "execution_count": null,
      "metadata": {
        "colab": {
          "base_uri": "https://localhost:8080/"
        },
        "id": "L5h9UaxPvSpq",
        "outputId": "d09e8db7-877a-4151-c5f5-beada409c404"
      },
      "outputs": [
        {
          "output_type": "stream",
          "name": "stdout",
          "text": [
            "        This       -5.03       -6.13        1.10\n",
            "       movie       -5.04       -4.53       -0.51\n",
            "          is       -3.95       -4.54        0.59\n",
            "Word 'stupid' is not in the model's vocabulary.\n"
          ]
        }
      ],
      "source": [
        "doc1 = [\"This\", \"movie\", \"is\", \"stupid\"]\n",
        "\n",
        "for word in doc1:\n",
        "    if word in model.weights:\n",
        "        print(\n",
        "            \"{:>12}{:>12.2f}{:>12.2f}{:>12.2f}\".format(\n",
        "                word,\n",
        "                model.weights[word][\"positive\"],\n",
        "                model.weights[word][\"negative\"],\n",
        "                model.weights[word][\"positive\"] - model.weights[word][\"negative\"],\n",
        "            )\n",
        "        )\n",
        "    else:\n",
        "        print(f\"Word '{word}' is not in the model's vocabulary.\")\n"
      ]
    },
    {
      "cell_type": "code",
      "execution_count": null,
      "metadata": {
        "id": "uJHw772xvSpr"
      },
      "outputs": [],
      "source": [
        "import pandas as pd\n",
        "import re\n",
        "\n",
        "def search_toxic_comments(pattern, df):\n",
        "    return df[df['Comment'].str.contains(pattern, case=False, na=False, regex=True)]\n",
        "\n",
        "toxic_comments = search_toxic_comments(r'\\bidiot\\b', df)"
      ]
    },
    {
      "cell_type": "code",
      "source": [
        "total_idiot_mentions = df['Comment'].str.count(r'\\bidiot\\b').sum()\n",
        "print(\"Total mentions of 'idiot' in all comments:\", total_idiot_mentions)"
      ],
      "metadata": {
        "id": "OikGWEWklT7a",
        "outputId": "6a026669-c13a-4730-ff44-5f80b642a693",
        "colab": {
          "base_uri": "https://localhost:8080/"
        }
      },
      "execution_count": null,
      "outputs": [
        {
          "output_type": "stream",
          "name": "stdout",
          "text": [
            "Total mentions of 'idiot' in all comments: 4\n"
          ]
        }
      ]
    },
    {
      "cell_type": "code",
      "source": [
        "\n",
        "\n",
        "def search_party(pattern, df, r=50):\n",
        "    for index, row in df.iterrows():\n",
        "        text = row['Comment']\n",
        "        matches = list(re.finditer(pattern, text, flags=re.I))\n",
        "        if not matches:\n",
        "            continue\n",
        "\n",
        "        article_title = row['Article_title']\n",
        "        comment = row['Comment']\n",
        "\n",
        "        for match in matches:\n",
        "            i, j = match.span()\n",
        "            start = max(i - r, 0)\n",
        "            end = j + r\n",
        "            context = comment[start:end]\n",
        "\n",
        "            print(f\"Article Title: {article_title}\\n\\n...{context}...\\n\\n\")\n",
        "\n",
        "# Search for the party \"ÖVP\" in toxic comments:\n",
        "search_party(r'\\bÖVP\\b', df)"
      ],
      "metadata": {
        "id": "JPg4jg_hlT-k",
        "outputId": "f31b7282-4b4c-406d-94ce-9f5375eac50a",
        "colab": {
          "base_uri": "https://localhost:8080/"
        }
      },
      "execution_count": null,
      "outputs": [
        {
          "output_type": "stream",
          "name": "stdout",
          "text": [
            "Article Title: Kann man eigentlich noch weiße Sneaker tragen?\n",
            "\n",
            "...In Ö das gleiche Szenario. Die türkise ÖVP hat auch die Trendfarbe türkis zerstört. Keine ha...\n",
            "\n",
            "\n",
            "Article Title: ÖVP-Anfragen an Zadić wegen Ermittlungen und Razzien\n",
            "\n",
            "...t fast grenzenlos. Geworden.. Danke, dass ihr die ÖVP an der Macht (Regierung) belässt. Achtung: ironis...\n",
            "\n",
            "\n",
            "Article Title: ÖVP-Anfragen an Zadić wegen Ermittlungen und Razzien\n",
            "\n",
            "...dem REGIME recht. Und gut beschrieben.   Wäre die ÖVP nicht mehr in der Regierung wäre sie politisch im...\n",
            "\n",
            "\n",
            "Article Title: Wer steht hinter dem Medium \"Exxpress\", das gegen Staatsanwälte und Journalisten ausreitet?\n",
            "\n",
            "...Elter nur hoffen, dass die eigenen Kinder nie ins ÖVP-Milieu abdriften....\n",
            "\n",
            "\n",
            "Article Title: Die Corona-Zahlen steigen und steigen: Letzte Ausfahrt Lockdown?\n",
            "\n",
            "...rsitzende der Regierungspartei und Klubobmann der ÖVP Sebastian Kurz, der uns als BK  in diese Lage man...\n",
            "\n",
            "\n",
            "Article Title: Großer Andrang auf Impfzentren nach 2G-Verschärfungen\n",
            "\n",
            "...aison vor der tür, erst reagieren. liebe unfähige övp- LH: wie es richtig geht zeigen auch die spö-häut...\n",
            "\n",
            "\n",
            "Article Title: ÖVP attackiert Justiz in Inseratenaffäre und ortet \"Inquisitionsprozess\"\n",
            "\n",
            "...Merkt diese ÖVP nicht, dass das ewige Hinhauen auf die Justiz sie...\n",
            "\n",
            "\n",
            "Article Title: Gesundheitsminister schließt Lockdown in Teilen Österreichs nicht aus\n",
            "\n",
            "...ist Zeit einmal \"Danke\" zu sagen:. - Danke an die ÖVP (und die Regierung),  die nur wegen der Wahlen in...\n",
            "\n",
            "\n",
            "Article Title: Österreichs fatale Wissenschaftsskepsis\n",
            "\n",
            "...verstehen: CoV, Aids, Lungenkrebs, Leberzirrhose, ÖVP. Dummheit tötet, sprach der Säbelzahntiger....\n",
            "\n",
            "\n",
            "Article Title: ÖVP attackiert Justiz in Inseratenaffäre und ortet \"Inquisitionsprozess\"\n",
            "\n",
            "...et sich bei mir der Eindruck dass es sich bei der ÖVP um eine. kriminelle Organisation handelt welche d...\n",
            "\n",
            "\n",
            "Article Title: Gesundheitsminister schließt Lockdown in Teilen Österreichs nicht aus\n",
            "\n",
            "...dann zeigt das eines: die Bundesregierung und die ÖVP-geführten Landesregierungen haben auf ganzer Lini...\n",
            "\n",
            "\n",
            "Article Title: Gesundheitsminister schließt Lockdown in Teilen Österreichs nicht aus\n",
            "\n",
            "..., der bis jetzt nichts geschafft hat und dann die ÖVP-Landeshauptleute, die entweder Wahlkampf führen m...\n",
            "\n",
            "\n",
            "Article Title: Hört jetzt mit dem Murks von Kurz auf\n",
            "\n",
            "...Die ÖVP muss sich von der Illusion lösen, dass Kurz noch ...\n",
            "\n",
            "\n",
            "Article Title: Lecher Bürgermeister tritt nach nur einem Jahr frustriert zurück\n",
            "\n",
            "...Die ÖVP hat in den letzten Jahrzehnten dieses Land vergif...\n",
            "\n",
            "\n",
            "Article Title: Seuchenticker-Basislager\n",
            "\n",
            "...Also wenn man MFG, FPÖ und ÖVP zusammenzählt sind wir durchaus am Arsch...\n",
            "\n",
            "\n",
            "Article Title: ÖVP attackiert Justiz in Inseratenaffäre und ortet \"Inquisitionsprozess\"\n",
            "\n",
            "...Wird zeit das die övp in die opposition verschwindet...bitte dort die n...\n",
            "\n",
            "\n",
            "Article Title: U-Ausschuss zu möglicher ÖVP-Korruption verzögert sich\n",
            "\n",
            "...Die ÖVP ist eine Schande für Österreich - die gehören ein...\n",
            "\n",
            "\n",
            "Article Title: Die Krisenkolumne: Der Omniabsente\n",
            "\n",
            "...t 2017 mit Sebastian Kurz und seiner macht-geilen ÖVP eine \"glanzvolle\" Bestätigung, ... weite Teile de...\n",
            "\n",
            "\n",
            "Article Title: Notstand in Spitälern und Pflegeeinrichtungen: \"Beim Gesundheitspersonal brennt der Hut\"\n",
            "\n",
            "... sie waren schon im Wahlkampf verlogen. Sogar die ÖVP fordert Mückstein sofortige Aufnahme der Arbeit, ...\n",
            "\n",
            "\n",
            "Article Title: Corona-Krisengipfel mit Salzburg und Oberösterreich endete fast ergebnislos\n",
            "\n",
            "...n it - exept your own family\"  Ein Kompendium der ÖVP...\n",
            "\n",
            "\n",
            "Article Title: Corona-Krisengipfel mit Salzburg und Oberösterreich endete fast ergebnislos\n",
            "\n",
            "...ch wählt nie wieder jemande von denen die fucking ÖVP....\n",
            "\n",
            "\n",
            "Article Title: Wurmmittel statt \"Impfvergewaltigungen\": Der \"Plan B\" von Herbert Kickl\n",
            "\n",
            "...nen Türkisen Liste mit Strolz und Griss aber ohne ÖVP gedroht hat, um mit dieser Drohung dann die ÖVP k...\n",
            "\n",
            "\n",
            "Article Title: Wurmmittel statt \"Impfvergewaltigungen\": Der \"Plan B\" von Herbert Kickl\n",
            "\n",
            "...e ÖVP gedroht hat, um mit dieser Drohung dann die ÖVP kapern zu können....\n",
            "\n",
            "\n",
            "Article Title: \"Ungeimpft\" ist keine Weltanschauung\n",
            "\n",
            "...rtet?   Upps ja, ein paar tausend Wähler, die die ÖVP von der FPÖ behalten bzw. von der MFG zurück will...\n",
            "\n",
            "\n",
            "Article Title: Verantwortungsverweigerung\n",
            "\n",
            "...h für nichts sonst steht. Zudem hat man die blaue ÖVP oder auch FPÖ thematisch. kopiert und unterscheid...\n",
            "\n",
            "\n",
            "Article Title: Corona-Krisengipfel mit Salzburg und Oberösterreich endete fast ergebnislos\n",
            "\n",
            "...rden - der hat alle Landesfürsten befleht und die övp und Maßnahmen gesetzt.   Mückstein ist da voll sa...\n",
            "\n",
            "\n",
            "Article Title: 9.943 Neuinfektionen – Höchstwert an Corona-Fällen seit Beginn der Pandemie\n",
            "\n",
            "...mundende Art auf den Arsch geht, Stephan Pernkopf ÖVP. \"keine Ausreden geben\"   Ich bin keine facking 1...\n",
            "\n",
            "\n",
            "Article Title: 9.943 Neuinfektionen – Höchstwert an Corona-Fällen seit Beginn der Pandemie\n",
            "\n",
            "... zum Volksfeind erklärt zu werden).   Aber dieser ÖVP-Sprech als hätte man es mir entwicklungsrückständ...\n",
            "\n",
            "\n",
            "Article Title: KPÖ, Grüne und SPÖ präsentieren neue Ressortverteilung in Graz\n",
            "\n",
            "...ählbar, was für eine Wählerverarsche :D \"Auch die ÖVP bekommt kleine Bereiche\". Und die SPÖ macht munte...\n",
            "\n",
            "\n",
            "Article Title: Corona-Maßnahmen: Wie Föderalismus nicht funktioniert\n",
            "\n",
            "...Stelzer-ÖVP und Haimbuchner-FPÖ zeigen, wie Oberösterreichs L...\n",
            "\n",
            "\n",
            "Article Title: Verantwortungsverweigerung\n",
            "\n",
            "...en Patt-Situation von 2 total korrupten Parteien (ÖVP und FPÖ) heraus,  die gemeinsam fast die Mehrheit...\n",
            "\n",
            "\n",
            "Article Title: Mückstein empfiehlt Oberösterreich und Salzburg Lockdown für Ungeimpfte\n",
            "\n",
            "...Haslauer (ÖVP), Stelzer (ÖVP)... Vielleicht ein abgekartetes Sp...\n",
            "\n",
            "\n",
            "Article Title: Mückstein empfiehlt Oberösterreich und Salzburg Lockdown für Ungeimpfte\n",
            "\n",
            "...Haslauer (ÖVP), Stelzer (ÖVP)... Vielleicht ein abgekartetes Spiel um den Gesu...\n",
            "\n",
            "\n",
            "Article Title: Whistleblower bringt FPÖ Graz noch mehr unter Druck\n",
            "\n",
            "...Das geht nur dort wo die ÖVP mit der FPÖ koaliert.. Das war im Bund so und auc...\n",
            "\n",
            "\n",
            "Article Title: Ausreisekontrollen in Villach-Land und Rohrbach – Jahreshöchstwert mit 8.594 Neuinfektionen\n",
            "\n",
            "...Die ÖVP liebt ihre FPÖ ;-)...\n",
            "\n",
            "\n",
            "Article Title: Mückstein empfiehlt Oberösterreich und Salzburg Lockdown für Ungeimpfte\n",
            "\n",
            "...ÖVP LH sind eine \"Gefahr\" für Österreich! Stelzer und...\n",
            "\n",
            "\n",
            "Article Title: Corona-Krisengipfel mit Salzburg und Oberösterreich endete fast ergebnislos\n",
            "\n",
            "...Danke ÖVP! Vor den Wahlen ja nichts tun. Für ein paar Wähle...\n",
            "\n",
            "\n",
            "Article Title: Corona-Krisengipfel mit Salzburg und Oberösterreich endete fast ergebnislos\n",
            "\n",
            "...macht!. man fragt sich, wer bescheuerter ist - oö övp/fpö politiker oder ihre wähler....\n",
            "\n",
            "\n",
            "Article Title: Corona-Krisengipfel mit Salzburg und Oberösterreich endete fast ergebnislos\n",
            "\n",
            "...Die ÖVP ist einfach nur eine elendige Dreckspartie!...\n",
            "\n",
            "\n",
            "Article Title: Lecher Bürgermeister tritt nach nur einem Jahr frustriert zurück\n",
            "\n",
            "...so kennen wir die övp. entweder hängen sie an den zitzen der macht, ode...\n",
            "\n",
            "\n",
            "Article Title: Corona-Krisengipfel mit Salzburg und Oberösterreich endete fast ergebnislos\n",
            "\n",
            "...Scheiss ÖVP!...\n",
            "\n",
            "\n",
            "Article Title: Corona-Krisengipfel mit Salzburg und Oberösterreich endete fast ergebnislos\n",
            "\n",
            "...Die ÖVP (Österreichische Volkspartei) ist eine Schande fü...\n",
            "\n",
            "\n",
            "Article Title: Corona-Krisengipfel mit Salzburg und Oberösterreich endete fast ergebnislos\n",
            "\n",
            "...Und was ist die Antwort unserer lieben ÖVP Politiker?? Nichts tun und sehenden Auges auf den...\n",
            "\n",
            "\n",
            "Article Title: Corona-Krisengipfel mit Salzburg und Oberösterreich endete fast ergebnislos\n",
            "\n",
            "...Fuck Föderalimus. Fuck ÖVP. Fuck Impfgegner.  Fuck alle, die so viel dazu be...\n",
            "\n",
            "\n",
            "Article Title: Dänemark führt 3G-Regel wieder ein; 8.178 Neuinfektionen\n",
            "\n",
            "...de der OStA Wien die Aufsicht über den Ibiza- und ÖVP-Komplex entzogen. Gnihihi....\n",
            "\n",
            "\n",
            "Article Title: Corona-Krisengipfel mit Salzburg und Oberösterreich endete fast ergebnislos\n",
            "\n",
            "...ÖVP Haslauer, Stelzer unglaublich feig!  Und dann, we...\n",
            "\n",
            "\n",
            "Article Title: Corona-Krisengipfel mit Salzburg und Oberösterreich endete fast ergebnislos\n",
            "\n",
            "... der österreichischen Politik, allen voran in der ÖVP massiv aus!...\n",
            "\n",
            "\n",
            "Article Title: Spekulanten am Wiener Immobilienmarkt unterwegs\n",
            "\n",
            "...rd die nie kommen, das wird die Spekulantenpartei ÖVP (aber auch NEOS und FPÖ) niemals zulassen. Da ver...\n",
            "\n",
            "\n",
            "Article Title: Corona-Krisengipfel mit Salzburg und Oberösterreich endete fast ergebnislos\n",
            "\n",
            "...ÖVP-Lügen-Scheiße...\n",
            "\n",
            "\n",
            "Article Title: Coronavirus im Bundesländervergleich: Hotspot oder Musterschüler?\n",
            "\n",
            "... Kreatur zurücktreten. Aber wir haben die deppate ÖVP-FPÖ Einheitspartei, die glaubt alles besser zu wi...\n",
            "\n",
            "\n",
            "Article Title: Corona-Krisengipfel mit Salzburg und Oberösterreich endete fast ergebnislos\n",
            "\n",
            "...infach nicht: da ist die Situation, gerade in den övp Ländern so richtig beschissen, und alles was dem ...\n",
            "\n",
            "\n",
            "Article Title: Wer steht hinter dem Medium \"Exxpress\", das gegen Staatsanwälte und Journalisten ausreitet?\n",
            "\n",
            "...Irgendwie werde ich dieses Gefühl nicht los, die ÖVP ist überhaupt nicht interessiert, dass es zu Klar...\n",
            "\n",
            "\n",
            "Article Title: Wer steht hinter dem Medium \"Exxpress\", das gegen Staatsanwälte und Journalisten ausreitet?\n",
            "\n",
            "...pt nicht interessiert, dass es zu Klarheit in die ÖVP kommt.. Herr EX - BK Sebastian Kurz Ihren Neuen S...\n",
            "\n",
            "\n",
            "Article Title: Wer steht hinter dem Medium \"Exxpress\", das gegen Staatsanwälte und Journalisten ausreitet?\n",
            "\n",
            "...rr EX - BK Sebastian Kurz Ihren Neuen Stil in der ÖVP ist SCHLICHTWEG verwerflich und beschämend.   Buc...\n",
            "\n",
            "\n",
            "Article Title: Die Krisenkolumne: Der Omniabsente\n",
            "\n",
            "...uso eine Frechheit wie der Umstand dass er in der ÖVP immer noch die Strippen zieht. Immerhin hat er ja...\n",
            "\n",
            "\n",
            "Article Title: Ex-Grünpolitiker Chorherr wegen Bestechlichkeit und Amtsmissbrauch angeklagt\n",
            "\n",
            "...StA da bitte?. Es gibt massive Vorwürfe gegen die ÖVP, die gehören aufgeklärt. Darauf muss man sich kon...\n",
            "\n",
            "\n",
            "Article Title: Schwachstelle Kraftausdruck\n",
            "\n",
            "...as wird sicher nix mehr.. Es ist vorbei. Auch die ÖVP wird sich neu aufstellen müssen. Sonst wird es bi...\n",
            "\n",
            "\n",
            "Article Title: Corona-Krisengipfel mit Salzburg und Oberösterreich endete fast ergebnislos\n",
            "\n",
            "...uns gefragt, dass eine Hausdurchsuchungen bei der ÖVP anstehen.\"...\n",
            "\n",
            "\n",
            "Article Title: Philosoph Liessmann zur Causa Kurz: \"Das nannte man früher Palastintrige\"\n",
            "\n",
            "...nn er weiss, dass der \"erste Stein\"-Sager von der ÖVP ja extra Richtung Strafrecht geframed wird... In ...\n",
            "\n",
            "\n",
            "Article Title: 9.943 Neuinfektionen – Höchstwert an Corona-Fällen seit Beginn der Pandemie\n",
            "\n",
            "...ndbauer per APA: \"2G-Zwang ist nur mehr verrückt! ÖVP & Grüne treiben Menschen in den Wahnsinn!\"...\n",
            "\n",
            "\n",
            "Article Title: Kurz soll noch im November ausgeliefert werden\n",
            "\n",
            "...Als treuer ÖVP-Anhänger wünsche ich mir: Sebastian Kurz soll noc...\n",
            "\n",
            "\n",
            "Article Title: Aktuelle Zahlen zum Coronavirus\n",
            "\n",
            "...sterreich. Damit kann man doch nicht arbeiten als ÖVP Giftspritzer und Dreckschleuderer! Schnell, bitte...\n",
            "\n",
            "\n",
            "Article Title: Die Krisenkolumne: Der Omniabsente\n",
            "\n",
            "...t 2017 mit Sebastian Kurz und seiner macht-geilen ÖVP eine \"glanzvolle\" Bestätigung, ... weite Teile de...\n",
            "\n",
            "\n",
            "Article Title: Mückstein empfiehlt Oberösterreich und Salzburg Lockdown für Ungeimpfte\n",
            "\n",
            "... mit einem heer an querde kern aus dem ländlichen övp bereich...\n",
            "\n",
            "\n",
            "Article Title: Jupiters Großer Roter Fleck gibt einige Geheimnisse preis\n",
            "\n",
            "...Wer von der ÖVP denkt dabei nicht an einen Schredder?...\n",
            "\n",
            "\n",
            "Article Title: Skiweltcup in Zürs am Arlberg: Neuauflage eines Streitfalls\n",
            "\n",
            "...o etwas dieser Blödsinn? Na ja h schon wissen die ÖVP Mandatare haben dafür gestimmt da sagt dann schon...\n",
            "\n",
            "\n",
            "Article Title: Fund in Neonaziszene: Waffen, um \"Republik in massive Krise zu stürzen\"\n",
            "\n",
            "...alten würden.   Klar gibt es das Problem aber der ÖVP ist wie immer nur die PK wichtig....\n",
            "\n",
            "\n",
            "Article Title: Dänemark führt 3G-Regel wieder ein; 8.178 Neuinfektionen\n",
            "\n",
            "...Der Typ ist mir so unsympathisch, als käme er von ÖVP....\n",
            "\n",
            "\n",
            "Article Title: Klage gegen Twitter-User: Blümel blitzte auch vor dem Oberlandesgericht Wien ab\n",
            "\n",
            "... muss man natürlich mundtot machen. Heuchler! Die övp ist einer Demokratie unwürdig...\n",
            "\n",
            "\n",
            "Article Title: Ausreisekontrollen in Villach-Land und Rohrbach – Jahreshöchstwert mit 8.594 Neuinfektionen\n",
            "\n",
            "...und die ÖVP so  \"Ja, die zahlen sind shice, aber wir sind sup...\n",
            "\n",
            "\n",
            "Article Title: Neue Leitung der Mozart-Museen in türkisem Schimmer\n",
            "\n",
            "...Mund aufmachen ... Liderlich - widerlich - KURZ - ÖVP! Dabei würde man annehmen 1930 wäre über 90 Jahre...\n",
            "\n",
            "\n",
            "Article Title: Corona-Krisengipfel mit Salzburg und Oberösterreich endete fast ergebnislos\n",
            "\n",
            "...)   Tut es nicht, wird auch nicht gefordert, denn ÖVP stimmt dagegen.   Es ist unfassbar.   Wüsst gerne...\n",
            "\n",
            "\n",
            "Article Title: Corona-Krisengipfel mit Salzburg und Oberösterreich endete fast ergebnislos\n",
            "\n",
            "...Pandemie ist für Geimpfte vorbei“. Mehr noch, die ÖVP plakatierte im Sommer sogar den Slogan: „Die Pand...\n",
            "\n",
            "\n",
            "Article Title: ÖVP attackiert Justiz in Inseratenaffäre und ortet \"Inquisitionsprozess\"\n",
            "\n",
            "...Ekelhaft, wie sich einige Damen Herren der ÖVP verhalten.... die können einfach nicht aufhören. ...\n",
            "\n",
            "\n",
            "Article Title: ÖVP attackiert Justiz in Inseratenaffäre und ortet \"Inquisitionsprozess\"\n",
            "\n",
            "...Hanger ist anscheinend selbst der ÖVP schon zu peinlich geworden, deshalb werden jetzt ...\n",
            "\n",
            "\n",
            "Article Title: ÖVP attackiert Justiz in Inseratenaffäre und ortet \"Inquisitionsprozess\"\n",
            "\n",
            "...ffenbar Leute, die auf den ersten Blick nicht der ÖVP zurechenbar sind, vorgeschickt. Zuerst die Rechts...\n",
            "\n",
            "\n",
            "Article Title: ÖVP attackiert Justiz in Inseratenaffäre und ortet \"Inquisitionsprozess\"\n",
            "\n",
            "... einmal mehr auf oe24. Jetzt kommt ein ehemaliger ÖVP Nationalratsabgeordneter und versucht wieder kram...\n",
            "\n",
            "\n"
          ]
        }
      ]
    },
    {
      "cell_type": "code",
      "source": [
        "\n",
        "def find_names_in_comments(df):\n",
        "    pattern = r'\\b[A-Z][a-z]+\\b'\n",
        "\n",
        "    # Create a new column to store the extracted names\n",
        "    df['Extracted_Names'] = df['Comment'].apply(lambda text: re.findall(pattern, text))\n",
        "\n",
        "    return df\n",
        "\n",
        "# Find and extract names in comments\n",
        "df = find_names_in_comments(df)\n",
        "\n",
        "# Display the DataFrame with the extracted names\n",
        "print(df[['Article_title', 'Comment', 'Extracted_Names']])"
      ],
      "metadata": {
        "id": "Wj4Pis7dlUB2",
        "outputId": "2c1e67d6-320d-405e-a337-49d611c6678f",
        "colab": {
          "base_uri": "https://localhost:8080/"
        }
      },
      "execution_count": null,
      "outputs": [
        {
          "output_type": "stream",
          "name": "stdout",
          "text": [
            "                                          Article_title  \\\n",
            "0        Kann man eigentlich noch weiße Sneaker tragen?   \n",
            "1                              Seuchenticker-Basislager   \n",
            "2     2G-Verschärfungen: Regierung veröffentlichte V...   \n",
            "3     Dänemark führt 3G-Regel wieder ein; 8.178 Neui...   \n",
            "4     Impfzwang, Wurmmittel, Todesfälle: Kickls Coro...   \n",
            "...                                                 ...   \n",
            "4468  Impfzwang, Wurmmittel, Todesfälle: Kickls Coro...   \n",
            "4469                           Seuchenticker-Basislager   \n",
            "4470  Neos und FPÖ kritisieren Corona-Management der...   \n",
            "4471  Corona-Krisengipfel mit Salzburg und Oberöster...   \n",
            "4472  Europacup-Nachlese: Rapid verliert in Zagreb 1...   \n",
            "\n",
            "                                                Comment  \\\n",
            "0     In Ö das gleiche Szenario. Die türkise ÖVP hat...   \n",
            "1     Subsi du hast am We eine Sextherapie? Wir hobn...   \n",
            "2     Do hinten, drenta da Doanau, so san vouvü Drag...   \n",
            "3     Muss ein Politiker eigentlich geisteskrank sei...   \n",
            "4     Die Fpö hat also auch ein Bescheuert-Gen in ih...   \n",
            "...                                                 ...   \n",
            "4468  Herbert seine Maßnahmen mache schon Sinn !!  W...   \n",
            "4469                                       Prshoooot!!!   \n",
            "4470         na dann auf zur corona party, suck my d...   \n",
            "4471  wir stimmen für eine sexistische wehrpflicht, ...   \n",
            "4472  Fuck you königliche Gesellschaft des Heiligen ...   \n",
            "\n",
            "                                        Extracted_Names  \n",
            "0     [In, Szenario, Die, Trendfarbe, Keine, Person,...  \n",
            "1     [Subsi, We, Sextherapie, Wir, Tag, Stunden, Th...  \n",
            "2                                [Do, Doanau, Dragdoan]  \n",
            "3                                     [Muss, Politiker]  \n",
            "4            [Die, Bescheuert, Gen, Was, Kick, Politik]  \n",
            "...                                                 ...  \n",
            "4468  [Herbert, Sinn, Wenn, Skorbut, Wurmbefall, Sol...  \n",
            "4469                                        [Prshoooot]  \n",
            "4470                                                 []  \n",
            "4471                                                 []  \n",
            "4472          [Fuck, Gesellschaft, Heiligen, Sebastian]  \n",
            "\n",
            "[4473 rows x 3 columns]\n"
          ]
        }
      ]
    },
    {
      "cell_type": "code",
      "source": [
        "# Define a function to remove comments with repeating characters using regex\n",
        "def remove_comments_with_repeating_characters(df):\n",
        "    # Define a regex pattern to match words with repeating characters (3 or more repetitions)\n",
        "    pattern = r'\\b\\w*(\\w)\\1{2,}\\w*\\b'\n",
        "\n",
        "    # Use re.findall to find comments containing the pattern\n",
        "    repeating_comments = df[df['Comment'].str.contains(pattern, case=False, na=False, regex=True)]\n",
        "\n",
        "    # Remove the identified comments\n",
        "    df = df[~df['Comment'].isin(repeating_comments['Comment'])]\n",
        "\n",
        "    return df\n",
        "\n",
        "# Remove comments with repeating characters\n",
        "df = remove_comments_with_repeating_characters(df)\n",
        "\n",
        "# Display the modified DataFrame\n",
        "print(df[['Article_title', 'Comment']])"
      ],
      "metadata": {
        "id": "ojGnIQcHlUFd",
        "outputId": "41468e3e-903a-4ce7-d633-d456894da504",
        "colab": {
          "base_uri": "https://localhost:8080/"
        }
      },
      "execution_count": null,
      "outputs": [
        {
          "output_type": "stream",
          "name": "stdout",
          "text": [
            "                                          Article_title  \\\n",
            "0        Kann man eigentlich noch weiße Sneaker tragen?   \n",
            "1                              Seuchenticker-Basislager   \n",
            "2     2G-Verschärfungen: Regierung veröffentlichte V...   \n",
            "3     Dänemark führt 3G-Regel wieder ein; 8.178 Neui...   \n",
            "4     Impfzwang, Wurmmittel, Todesfälle: Kickls Coro...   \n",
            "...                                                 ...   \n",
            "4466  Neos und FPÖ kritisieren Corona-Management der...   \n",
            "4468  Impfzwang, Wurmmittel, Todesfälle: Kickls Coro...   \n",
            "4470  Neos und FPÖ kritisieren Corona-Management der...   \n",
            "4471  Corona-Krisengipfel mit Salzburg und Oberöster...   \n",
            "4472  Europacup-Nachlese: Rapid verliert in Zagreb 1...   \n",
            "\n",
            "                                                Comment  \n",
            "0     In Ö das gleiche Szenario. Die türkise ÖVP hat...  \n",
            "1     Subsi du hast am We eine Sextherapie? Wir hobn...  \n",
            "2     Do hinten, drenta da Doanau, so san vouvü Drag...  \n",
            "3     Muss ein Politiker eigentlich geisteskrank sei...  \n",
            "4     Die Fpö hat also auch ein Bescheuert-Gen in ih...  \n",
            "...                                                 ...  \n",
            "4466  Also liegt die Wahrscheinlichkeit in Wien um d...  \n",
            "4468  Herbert seine Maßnahmen mache schon Sinn !!  W...  \n",
            "4470         na dann auf zur corona party, suck my d...  \n",
            "4471  wir stimmen für eine sexistische wehrpflicht, ...  \n",
            "4472  Fuck you königliche Gesellschaft des Heiligen ...  \n",
            "\n",
            "[4289 rows x 2 columns]\n"
          ]
        },
        {
          "output_type": "stream",
          "name": "stderr",
          "text": [
            "<ipython-input-170-852196fcaa24>:7: UserWarning: This pattern is interpreted as a regular expression, and has match groups. To actually get the groups, use str.extract.\n",
            "  repeating_comments = df[df['Comment'].str.contains(pattern, case=False, na=False, regex=True)]\n"
          ]
        }
      ]
    },
    {
      "cell_type": "code",
      "source": [],
      "metadata": {
        "id": "Frj1oDX0lUIk"
      },
      "execution_count": null,
      "outputs": []
    }
  ],
  "metadata": {
    "kernelspec": {
      "display_name": "Python 3.9.5 ('base')",
      "language": "python",
      "name": "python3"
    },
    "language_info": {
      "codemirror_mode": {
        "name": "ipython",
        "version": 3
      },
      "file_extension": ".py",
      "mimetype": "text/x-python",
      "name": "python",
      "nbconvert_exporter": "python",
      "pygments_lexer": "ipython3",
      "version": "3.9.5"
    },
    "orig_nbformat": 4,
    "vscode": {
      "interpreter": {
        "hash": "2ba6e79cfe500659b64dde21d0b13217ce6375f8dca9d4d575440e3878ce882b"
      }
    },
    "colab": {
      "provenance": [],
      "include_colab_link": true
    },
    "widgets": {
      "application/vnd.jupyter.widget-state+json": {
        "6c9bbccc069140239acc2a019ee0260c": {
          "model_module": "@jupyter-widgets/controls",
          "model_name": "HBoxModel",
          "model_module_version": "1.5.0",
          "state": {
            "_dom_classes": [],
            "_model_module": "@jupyter-widgets/controls",
            "_model_module_version": "1.5.0",
            "_model_name": "HBoxModel",
            "_view_count": null,
            "_view_module": "@jupyter-widgets/controls",
            "_view_module_version": "1.5.0",
            "_view_name": "HBoxView",
            "box_style": "",
            "children": [
              "IPY_MODEL_1299e59b7b184667a94e6d2429ec1b24",
              "IPY_MODEL_2960fddf7e654d31b3bd59e7b7e56b56",
              "IPY_MODEL_70770329c5494c1aaddc695f9b5c62d0"
            ],
            "layout": "IPY_MODEL_d3d40f225618448a9a35eb6bcd25a31f"
          }
        },
        "1299e59b7b184667a94e6d2429ec1b24": {
          "model_module": "@jupyter-widgets/controls",
          "model_name": "HTMLModel",
          "model_module_version": "1.5.0",
          "state": {
            "_dom_classes": [],
            "_model_module": "@jupyter-widgets/controls",
            "_model_module_version": "1.5.0",
            "_model_name": "HTMLModel",
            "_view_count": null,
            "_view_module": "@jupyter-widgets/controls",
            "_view_module_version": "1.5.0",
            "_view_name": "HTMLView",
            "description": "",
            "description_tooltip": null,
            "layout": "IPY_MODEL_6047786f7cdc4ccda1c4ca1382ba2b29",
            "placeholder": "​",
            "style": "IPY_MODEL_066b2ef27408445190cdc8924fc4bcbe",
            "value": "Downloading https://raw.githubusercontent.com/stanfordnlp/stanza-resources/main/resources_1.6.0.json: "
          }
        },
        "2960fddf7e654d31b3bd59e7b7e56b56": {
          "model_module": "@jupyter-widgets/controls",
          "model_name": "FloatProgressModel",
          "model_module_version": "1.5.0",
          "state": {
            "_dom_classes": [],
            "_model_module": "@jupyter-widgets/controls",
            "_model_module_version": "1.5.0",
            "_model_name": "FloatProgressModel",
            "_view_count": null,
            "_view_module": "@jupyter-widgets/controls",
            "_view_module_version": "1.5.0",
            "_view_name": "ProgressView",
            "bar_style": "success",
            "description": "",
            "description_tooltip": null,
            "layout": "IPY_MODEL_53dd47de231547fd87157e1dbb4ebe09",
            "max": 45744,
            "min": 0,
            "orientation": "horizontal",
            "style": "IPY_MODEL_4774377116db40ec96fbdfb0e52459a4",
            "value": 45744
          }
        },
        "70770329c5494c1aaddc695f9b5c62d0": {
          "model_module": "@jupyter-widgets/controls",
          "model_name": "HTMLModel",
          "model_module_version": "1.5.0",
          "state": {
            "_dom_classes": [],
            "_model_module": "@jupyter-widgets/controls",
            "_model_module_version": "1.5.0",
            "_model_name": "HTMLModel",
            "_view_count": null,
            "_view_module": "@jupyter-widgets/controls",
            "_view_module_version": "1.5.0",
            "_view_name": "HTMLView",
            "description": "",
            "description_tooltip": null,
            "layout": "IPY_MODEL_879353b97a1d4c5990d3a6eabb6b6563",
            "placeholder": "​",
            "style": "IPY_MODEL_10e9a1ed37554237813f4274eb9ca891",
            "value": " 367k/? [00:00&lt;00:00, 4.68MB/s]"
          }
        },
        "d3d40f225618448a9a35eb6bcd25a31f": {
          "model_module": "@jupyter-widgets/base",
          "model_name": "LayoutModel",
          "model_module_version": "1.2.0",
          "state": {
            "_model_module": "@jupyter-widgets/base",
            "_model_module_version": "1.2.0",
            "_model_name": "LayoutModel",
            "_view_count": null,
            "_view_module": "@jupyter-widgets/base",
            "_view_module_version": "1.2.0",
            "_view_name": "LayoutView",
            "align_content": null,
            "align_items": null,
            "align_self": null,
            "border": null,
            "bottom": null,
            "display": null,
            "flex": null,
            "flex_flow": null,
            "grid_area": null,
            "grid_auto_columns": null,
            "grid_auto_flow": null,
            "grid_auto_rows": null,
            "grid_column": null,
            "grid_gap": null,
            "grid_row": null,
            "grid_template_areas": null,
            "grid_template_columns": null,
            "grid_template_rows": null,
            "height": null,
            "justify_content": null,
            "justify_items": null,
            "left": null,
            "margin": null,
            "max_height": null,
            "max_width": null,
            "min_height": null,
            "min_width": null,
            "object_fit": null,
            "object_position": null,
            "order": null,
            "overflow": null,
            "overflow_x": null,
            "overflow_y": null,
            "padding": null,
            "right": null,
            "top": null,
            "visibility": null,
            "width": null
          }
        },
        "6047786f7cdc4ccda1c4ca1382ba2b29": {
          "model_module": "@jupyter-widgets/base",
          "model_name": "LayoutModel",
          "model_module_version": "1.2.0",
          "state": {
            "_model_module": "@jupyter-widgets/base",
            "_model_module_version": "1.2.0",
            "_model_name": "LayoutModel",
            "_view_count": null,
            "_view_module": "@jupyter-widgets/base",
            "_view_module_version": "1.2.0",
            "_view_name": "LayoutView",
            "align_content": null,
            "align_items": null,
            "align_self": null,
            "border": null,
            "bottom": null,
            "display": null,
            "flex": null,
            "flex_flow": null,
            "grid_area": null,
            "grid_auto_columns": null,
            "grid_auto_flow": null,
            "grid_auto_rows": null,
            "grid_column": null,
            "grid_gap": null,
            "grid_row": null,
            "grid_template_areas": null,
            "grid_template_columns": null,
            "grid_template_rows": null,
            "height": null,
            "justify_content": null,
            "justify_items": null,
            "left": null,
            "margin": null,
            "max_height": null,
            "max_width": null,
            "min_height": null,
            "min_width": null,
            "object_fit": null,
            "object_position": null,
            "order": null,
            "overflow": null,
            "overflow_x": null,
            "overflow_y": null,
            "padding": null,
            "right": null,
            "top": null,
            "visibility": null,
            "width": null
          }
        },
        "066b2ef27408445190cdc8924fc4bcbe": {
          "model_module": "@jupyter-widgets/controls",
          "model_name": "DescriptionStyleModel",
          "model_module_version": "1.5.0",
          "state": {
            "_model_module": "@jupyter-widgets/controls",
            "_model_module_version": "1.5.0",
            "_model_name": "DescriptionStyleModel",
            "_view_count": null,
            "_view_module": "@jupyter-widgets/base",
            "_view_module_version": "1.2.0",
            "_view_name": "StyleView",
            "description_width": ""
          }
        },
        "53dd47de231547fd87157e1dbb4ebe09": {
          "model_module": "@jupyter-widgets/base",
          "model_name": "LayoutModel",
          "model_module_version": "1.2.0",
          "state": {
            "_model_module": "@jupyter-widgets/base",
            "_model_module_version": "1.2.0",
            "_model_name": "LayoutModel",
            "_view_count": null,
            "_view_module": "@jupyter-widgets/base",
            "_view_module_version": "1.2.0",
            "_view_name": "LayoutView",
            "align_content": null,
            "align_items": null,
            "align_self": null,
            "border": null,
            "bottom": null,
            "display": null,
            "flex": null,
            "flex_flow": null,
            "grid_area": null,
            "grid_auto_columns": null,
            "grid_auto_flow": null,
            "grid_auto_rows": null,
            "grid_column": null,
            "grid_gap": null,
            "grid_row": null,
            "grid_template_areas": null,
            "grid_template_columns": null,
            "grid_template_rows": null,
            "height": null,
            "justify_content": null,
            "justify_items": null,
            "left": null,
            "margin": null,
            "max_height": null,
            "max_width": null,
            "min_height": null,
            "min_width": null,
            "object_fit": null,
            "object_position": null,
            "order": null,
            "overflow": null,
            "overflow_x": null,
            "overflow_y": null,
            "padding": null,
            "right": null,
            "top": null,
            "visibility": null,
            "width": null
          }
        },
        "4774377116db40ec96fbdfb0e52459a4": {
          "model_module": "@jupyter-widgets/controls",
          "model_name": "ProgressStyleModel",
          "model_module_version": "1.5.0",
          "state": {
            "_model_module": "@jupyter-widgets/controls",
            "_model_module_version": "1.5.0",
            "_model_name": "ProgressStyleModel",
            "_view_count": null,
            "_view_module": "@jupyter-widgets/base",
            "_view_module_version": "1.2.0",
            "_view_name": "StyleView",
            "bar_color": null,
            "description_width": ""
          }
        },
        "879353b97a1d4c5990d3a6eabb6b6563": {
          "model_module": "@jupyter-widgets/base",
          "model_name": "LayoutModel",
          "model_module_version": "1.2.0",
          "state": {
            "_model_module": "@jupyter-widgets/base",
            "_model_module_version": "1.2.0",
            "_model_name": "LayoutModel",
            "_view_count": null,
            "_view_module": "@jupyter-widgets/base",
            "_view_module_version": "1.2.0",
            "_view_name": "LayoutView",
            "align_content": null,
            "align_items": null,
            "align_self": null,
            "border": null,
            "bottom": null,
            "display": null,
            "flex": null,
            "flex_flow": null,
            "grid_area": null,
            "grid_auto_columns": null,
            "grid_auto_flow": null,
            "grid_auto_rows": null,
            "grid_column": null,
            "grid_gap": null,
            "grid_row": null,
            "grid_template_areas": null,
            "grid_template_columns": null,
            "grid_template_rows": null,
            "height": null,
            "justify_content": null,
            "justify_items": null,
            "left": null,
            "margin": null,
            "max_height": null,
            "max_width": null,
            "min_height": null,
            "min_width": null,
            "object_fit": null,
            "object_position": null,
            "order": null,
            "overflow": null,
            "overflow_x": null,
            "overflow_y": null,
            "padding": null,
            "right": null,
            "top": null,
            "visibility": null,
            "width": null
          }
        },
        "10e9a1ed37554237813f4274eb9ca891": {
          "model_module": "@jupyter-widgets/controls",
          "model_name": "DescriptionStyleModel",
          "model_module_version": "1.5.0",
          "state": {
            "_model_module": "@jupyter-widgets/controls",
            "_model_module_version": "1.5.0",
            "_model_name": "DescriptionStyleModel",
            "_view_count": null,
            "_view_module": "@jupyter-widgets/base",
            "_view_module_version": "1.2.0",
            "_view_name": "StyleView",
            "description_width": ""
          }
        }
      }
    }
  },
  "nbformat": 4,
  "nbformat_minor": 0
}